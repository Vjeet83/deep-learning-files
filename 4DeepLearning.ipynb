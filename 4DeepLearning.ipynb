{
 "cells": [
  {
   "cell_type": "markdown",
   "id": "9f096230",
   "metadata": {},
   "source": [
    "# SGD with MOMENTUM"
   ]
  },
  {
   "cell_type": "code",
   "execution_count": 3,
   "id": "02261473",
   "metadata": {},
   "outputs": [],
   "source": [
    "import  pandas as pd\n",
    "import numpy as np\n",
    "import tensorflow as tf \n",
    "from sklearn.model_selection import train_test_split\n",
    "from sklearn.preprocessing import LabelEncoder ,StandardScaler"
   ]
  },
  {
   "cell_type": "code",
   "execution_count": 4,
   "id": "446fc57a",
   "metadata": {},
   "outputs": [],
   "source": [
    "data= pd.read_csv('C:\\\\Users\\\\Jarvis\\\\Downloads\\\\Churn_Modelling.csv')"
   ]
  },
  {
   "cell_type": "code",
   "execution_count": 5,
   "id": "2dcfb920",
   "metadata": {},
   "outputs": [],
   "source": [
    "x=data.iloc[:,3:-1]\n",
    "y=data.iloc[:,-1]"
   ]
  },
  {
   "cell_type": "code",
   "execution_count": 19,
   "id": "d25f2292",
   "metadata": {},
   "outputs": [],
   "source": [
    "lb=LabelEncoder()\n",
    "x['Geography']=lb.fit_transform(x[\"Geography\"])\n",
    "x[\"Gender\"]=lb.fit_transform(x[\"Gender\"])"
   ]
  },
  {
   "cell_type": "code",
   "execution_count": 22,
   "id": "b66d79c0",
   "metadata": {},
   "outputs": [],
   "source": [
    "x_train,x_test,y_train,y_test=train_test_split(x,y,test_size=0.2,random_state=24)"
   ]
  },
  {
   "cell_type": "code",
   "execution_count": 23,
   "id": "b9413619",
   "metadata": {},
   "outputs": [],
   "source": [
    "scaler=StandardScaler()\n",
    "x_train=scaler.fit_transform(x_train)\n",
    "x_test=scaler.transform(x_test)"
   ]
  },
  {
   "cell_type": "code",
   "execution_count": 27,
   "id": "c00d6451",
   "metadata": {},
   "outputs": [],
   "source": [
    "model= tf.keras.Sequential([\n",
    "    tf.keras.layers.Dense(64,activation='relu',input_dim=x_train.shape[1]),\n",
    "    tf.keras.layers.Dense(64,activation='relu'),\n",
    "    tf.keras.layers.Dense(1,activation='sigmoid')\n",
    "])"
   ]
  },
  {
   "cell_type": "code",
   "execution_count": 31,
   "id": "9c5be5df",
   "metadata": {},
   "outputs": [],
   "source": [
    "loss_fn=tf.keras.losses.BinaryCrossentropy()\n",
    "metrics=['accuracy']\n",
    "learning_rate=0.001\n",
    "momentum=0.9\n",
    "optimizer=tf.keras.optimizers.SGD(learning_rate=learning_rate , momentum=momentum)"
   ]
  },
  {
   "cell_type": "code",
   "execution_count": 32,
   "id": "90e0b355",
   "metadata": {},
   "outputs": [],
   "source": [
    "model.compile(optimizer=optimizer, loss=loss_fn , metrics=metrics)"
   ]
  },
  {
   "cell_type": "code",
   "execution_count": 34,
   "id": "2c0780fd",
   "metadata": {},
   "outputs": [
    {
     "name": "stdout",
     "output_type": "stream",
     "text": [
      "Epoch 1/10\n",
      "200/200 [==============================] - 4s 4ms/step - loss: 0.5486 - accuracy: 0.7659 - val_loss: 0.4750 - val_accuracy: 0.8156\n",
      "Epoch 2/10\n",
      "200/200 [==============================] - 0s 2ms/step - loss: 0.4819 - accuracy: 0.7923 - val_loss: 0.4515 - val_accuracy: 0.8150\n",
      "Epoch 3/10\n",
      "200/200 [==============================] - 0s 2ms/step - loss: 0.4622 - accuracy: 0.7942 - val_loss: 0.4382 - val_accuracy: 0.8188\n",
      "Epoch 4/10\n",
      "200/200 [==============================] - 1s 3ms/step - loss: 0.4493 - accuracy: 0.7978 - val_loss: 0.4298 - val_accuracy: 0.8213\n",
      "Epoch 5/10\n",
      "200/200 [==============================] - 1s 3ms/step - loss: 0.4405 - accuracy: 0.8027 - val_loss: 0.4239 - val_accuracy: 0.8238\n",
      "Epoch 6/10\n",
      "200/200 [==============================] - 0s 2ms/step - loss: 0.4337 - accuracy: 0.8056 - val_loss: 0.4211 - val_accuracy: 0.8250\n",
      "Epoch 7/10\n",
      "200/200 [==============================] - 0s 2ms/step - loss: 0.4283 - accuracy: 0.8147 - val_loss: 0.4158 - val_accuracy: 0.8256\n",
      "Epoch 8/10\n",
      "200/200 [==============================] - 0s 2ms/step - loss: 0.4232 - accuracy: 0.8170 - val_loss: 0.4120 - val_accuracy: 0.8263\n",
      "Epoch 9/10\n",
      "200/200 [==============================] - 0s 2ms/step - loss: 0.4184 - accuracy: 0.8213 - val_loss: 0.4076 - val_accuracy: 0.8313\n",
      "Epoch 10/10\n",
      "200/200 [==============================] - 0s 2ms/step - loss: 0.4136 - accuracy: 0.8272 - val_loss: 0.4035 - val_accuracy: 0.8363\n"
     ]
    },
    {
     "data": {
      "text/plain": [
       "<keras.src.callbacks.History at 0x1cef68d29b0>"
      ]
     },
     "execution_count": 34,
     "metadata": {},
     "output_type": "execute_result"
    }
   ],
   "source": [
    "epochs=10\n",
    "batch_size=32\n",
    "model.fit(x_train,y_train,batch_size=batch_size,epochs=epochs,validation_split=0.2)\n"
   ]
  },
  {
   "cell_type": "code",
   "execution_count": 35,
   "id": "ca7ced3d",
   "metadata": {},
   "outputs": [
    {
     "name": "stdout",
     "output_type": "stream",
     "text": [
      "63/63 [==============================] - 0s 2ms/step - loss: 0.4089 - accuracy: 0.8285\n"
     ]
    }
   ],
   "source": [
    "test_loss,test_acc= model.evaluate(x_test,y_test)"
   ]
  },
  {
   "cell_type": "code",
   "execution_count": 36,
   "id": "9fddbfc7",
   "metadata": {},
   "outputs": [
    {
     "name": "stdout",
     "output_type": "stream",
     "text": [
      "test loss:  0.4088593125343323\n",
      "test Accuracy:  0.828499972820282\n"
     ]
    }
   ],
   "source": [
    "print('test loss: ',test_loss)\n",
    "print('test Accuracy: ',test_acc)"
   ]
  },
  {
   "cell_type": "code",
   "execution_count": null,
   "id": "7a2a571e",
   "metadata": {},
   "outputs": [],
   "source": []
  },
  {
   "cell_type": "code",
   "execution_count": null,
   "id": "b3c75776",
   "metadata": {},
   "outputs": [],
   "source": []
  },
  {
   "cell_type": "markdown",
   "id": "ac810857",
   "metadata": {},
   "source": [
    "# NAG"
   ]
  },
  {
   "cell_type": "code",
   "execution_count": 37,
   "id": "072cae4e",
   "metadata": {},
   "outputs": [],
   "source": [
    "data= pd.read_csv('C:\\\\Users\\\\Jarvis\\\\Downloads\\\\Churn_Modelling.csv')"
   ]
  },
  {
   "cell_type": "code",
   "execution_count": 38,
   "id": "092fabc3",
   "metadata": {},
   "outputs": [],
   "source": [
    "x=data.iloc[:,3:-1]\n",
    "y=data.iloc[:,-1]"
   ]
  },
  {
   "cell_type": "code",
   "execution_count": 39,
   "id": "6bc0e565",
   "metadata": {},
   "outputs": [],
   "source": [
    "lb=LabelEncoder()\n",
    "x['Geography']=lb.fit_transform(x[\"Geography\"])\n",
    "x[\"Gender\"]=lb.fit_transform(x[\"Gender\"])"
   ]
  },
  {
   "cell_type": "code",
   "execution_count": 40,
   "id": "4cb0e25f",
   "metadata": {},
   "outputs": [],
   "source": [
    "x_train,x_test,y_train,y_test=train_test_split(x,y,test_size=0.2,random_state=24)"
   ]
  },
  {
   "cell_type": "code",
   "execution_count": 42,
   "id": "32fc45c7",
   "metadata": {},
   "outputs": [],
   "source": [
    "#standardize the feature\n",
    "scaler=StandardScaler()\n",
    "x_train=scaler.fit_transform(x_train)\n",
    "x_test=scaler.transform(x_test)"
   ]
  },
  {
   "cell_type": "code",
   "execution_count": 44,
   "id": "e00e4560",
   "metadata": {},
   "outputs": [],
   "source": [
    "# Define the neural network architecture\n",
    "model= tf.keras.Sequential([\n",
    "    tf.keras.layers.Dense(64,activation='relu',input_dim=x_train.shape[1]),\n",
    "    tf.keras.layers.Dense(64,activation='relu'),\n",
    "    tf.keras.layers.Dense(1,activation='sigmoid')\n",
    "])"
   ]
  },
  {
   "cell_type": "code",
   "execution_count": 45,
   "id": "f3abb829",
   "metadata": {},
   "outputs": [],
   "source": [
    "# Define the loss function and metrics\n",
    "loss_fn = tf.keras.losses.BinaryCrossentropy()\n",
    "metrics=['accuracy']"
   ]
  },
  {
   "cell_type": "code",
   "execution_count": 47,
   "id": "75209431",
   "metadata": {},
   "outputs": [],
   "source": [
    "# Define the optimizer with Nesterov Accelerated Gradient(NAG)\n",
    "learning_rate = 0.001 \n",
    "momentum=0.9\n",
    "optimizer = tf.keras.optimizers.SGD(learning_rate=learning_rate,momentum=momentum ,nesterov=True)"
   ]
  },
  {
   "cell_type": "code",
   "execution_count": 48,
   "id": "5cef63e5",
   "metadata": {},
   "outputs": [],
   "source": [
    "# compile the model \n",
    "model.compile(optimizer=optimizer,loss=loss_fn,metrics=metrics)"
   ]
  },
  {
   "cell_type": "code",
   "execution_count": 49,
   "id": "d6135e79",
   "metadata": {},
   "outputs": [
    {
     "name": "stdout",
     "output_type": "stream",
     "text": [
      "Epoch 1/10\n",
      "200/200 [==============================] - 2s 4ms/step - loss: 0.5554 - accuracy: 0.7577 - val_loss: 0.4796 - val_accuracy: 0.8156\n",
      "Epoch 2/10\n",
      "200/200 [==============================] - 0s 2ms/step - loss: 0.4878 - accuracy: 0.7923 - val_loss: 0.4568 - val_accuracy: 0.8156\n",
      "Epoch 3/10\n",
      "200/200 [==============================] - 1s 3ms/step - loss: 0.4681 - accuracy: 0.7925 - val_loss: 0.4434 - val_accuracy: 0.8156\n",
      "Epoch 4/10\n",
      "200/200 [==============================] - 1s 3ms/step - loss: 0.4543 - accuracy: 0.7937 - val_loss: 0.4334 - val_accuracy: 0.8175\n",
      "Epoch 5/10\n",
      "200/200 [==============================] - 0s 2ms/step - loss: 0.4440 - accuracy: 0.7984 - val_loss: 0.4265 - val_accuracy: 0.8194\n",
      "Epoch 6/10\n",
      "200/200 [==============================] - 0s 2ms/step - loss: 0.4366 - accuracy: 0.8059 - val_loss: 0.4216 - val_accuracy: 0.8238\n",
      "Epoch 7/10\n",
      "200/200 [==============================] - 1s 3ms/step - loss: 0.4307 - accuracy: 0.8106 - val_loss: 0.4177 - val_accuracy: 0.8256\n",
      "Epoch 8/10\n",
      "200/200 [==============================] - 1s 3ms/step - loss: 0.4259 - accuracy: 0.8155 - val_loss: 0.4142 - val_accuracy: 0.8275\n",
      "Epoch 9/10\n",
      "200/200 [==============================] - 1s 3ms/step - loss: 0.4217 - accuracy: 0.8202 - val_loss: 0.4109 - val_accuracy: 0.8300\n",
      "Epoch 10/10\n",
      "200/200 [==============================] - 1s 3ms/step - loss: 0.4179 - accuracy: 0.8242 - val_loss: 0.4067 - val_accuracy: 0.8338\n"
     ]
    },
    {
     "data": {
      "text/plain": [
       "<keras.src.callbacks.History at 0x1cef7cd5060>"
      ]
     },
     "execution_count": 49,
     "metadata": {},
     "output_type": "execute_result"
    }
   ],
   "source": [
    "# train the model\n",
    "epochs=10\n",
    "batch_size=32\n",
    "model.fit(x_train,y_train,batch_size=batch_size,epochs=epochs,validation_split=0.2)\n"
   ]
  },
  {
   "cell_type": "code",
   "execution_count": 50,
   "id": "790cb865",
   "metadata": {},
   "outputs": [
    {
     "name": "stdout",
     "output_type": "stream",
     "text": [
      "63/63 [==============================] - 0s 2ms/step - loss: 0.4159 - accuracy: 0.8225\n"
     ]
    }
   ],
   "source": [
    "#Evaluate the model\n",
    "test_loss ,test_acc = model.evaluate(x_test,y_test)"
   ]
  },
  {
   "cell_type": "code",
   "execution_count": 51,
   "id": "bc1ffb44",
   "metadata": {},
   "outputs": [
    {
     "name": "stdout",
     "output_type": "stream",
     "text": [
      "test loss 0.4159422218799591\n",
      "test accurracy 0.8224999904632568\n"
     ]
    }
   ],
   "source": [
    "print('test loss',test_loss)\n",
    "print('test accurracy',test_acc)"
   ]
  },
  {
   "cell_type": "code",
   "execution_count": null,
   "id": "abd6bea1",
   "metadata": {},
   "outputs": [],
   "source": []
  }
 ],
 "metadata": {
  "kernelspec": {
   "display_name": "Python 3 (ipykernel)",
   "language": "python",
   "name": "python3"
  },
  "language_info": {
   "codemirror_mode": {
    "name": "ipython",
    "version": 3
   },
   "file_extension": ".py",
   "mimetype": "text/x-python",
   "name": "python",
   "nbconvert_exporter": "python",
   "pygments_lexer": "ipython3",
   "version": "3.10.9"
  }
 },
 "nbformat": 4,
 "nbformat_minor": 5
}
