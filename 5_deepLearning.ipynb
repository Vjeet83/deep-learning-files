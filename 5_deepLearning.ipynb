{
 "cells": [
  {
   "cell_type": "markdown",
   "id": "2ca6d90e",
   "metadata": {},
   "source": [
    "# ADAGRADE Optimizer"
   ]
  },
  {
   "cell_type": "code",
   "execution_count": 1,
   "id": "d3b2c6c3",
   "metadata": {},
   "outputs": [],
   "source": [
    "import  pandas as pd\n",
    "import numpy as np\n",
    "import tensorflow as tf \n",
    "from sklearn.model_selection import train_test_split\n",
    "from sklearn.preprocessing import LabelEncoder ,StandardScaler"
   ]
  },
  {
   "cell_type": "code",
   "execution_count": 2,
   "id": "079920ad",
   "metadata": {},
   "outputs": [],
   "source": [
    "data= pd.read_csv('C:\\\\Users\\\\Jarvis\\\\Downloads\\\\Churn_Modelling.csv')"
   ]
  },
  {
   "cell_type": "code",
   "execution_count": 3,
   "id": "2a3f9287",
   "metadata": {},
   "outputs": [],
   "source": [
    "x=data.iloc[:,3:-1]\n",
    "y=data.iloc[:,-1]"
   ]
  },
  {
   "cell_type": "code",
   "execution_count": 4,
   "id": "02429a64",
   "metadata": {},
   "outputs": [],
   "source": [
    "lb=LabelEncoder()\n",
    "x['Geography']=lb.fit_transform(x[\"Geography\"])\n",
    "x[\"Gender\"]=lb.fit_transform(x[\"Gender\"])"
   ]
  },
  {
   "cell_type": "code",
   "execution_count": 5,
   "id": "5c9cf7c8",
   "metadata": {},
   "outputs": [],
   "source": [
    "x_train,x_test,y_train,y_test=train_test_split(x,y,test_size=0.2,random_state=24)"
   ]
  },
  {
   "cell_type": "code",
   "execution_count": 6,
   "id": "b30e275f",
   "metadata": {},
   "outputs": [],
   "source": [
    "scaler=StandardScaler()\n",
    "x_train=scaler.fit_transform(x_train)\n",
    "x_test=scaler.transform(x_test)"
   ]
  },
  {
   "cell_type": "code",
   "execution_count": 7,
   "id": "0c845617",
   "metadata": {},
   "outputs": [],
   "source": [
    "# Define The neural network architecture\n",
    "model= tf.keras.Sequential([\n",
    "    tf.keras.layers.Dense(64,activation='relu',input_dim=x_train.shape[1]),\n",
    "    tf.keras.layers.Dense(64,activation='relu'),\n",
    "    tf.keras.layers.Dense(1,activation='sigmoid')\n",
    "])"
   ]
  },
  {
   "cell_type": "code",
   "execution_count": 8,
   "id": "cac83f7b",
   "metadata": {},
   "outputs": [],
   "source": [
    "#Define the loss function and metrics\n",
    "loss_fn=tf.keras.losses.BinaryCrossentropy()\n",
    "metrics=['accuracy']\n",
    "\n",
    "# Define the optimizer and adagrade \n",
    "learning_rate=0.001\n",
    "optimizer=tf.keras.optimizers.Adagrad(learning_rate=learning_rate )\n",
    "# yaha kearning rate sirf suru ki deni hoti h fir ye automaticaly update hoti rahegei\n",
    "# sath hi momentum bhi nhi define karna padta vo bhi auto fill ho jata h\n",
    "# ye do hi chije  adagrad ko special banati h\n"
   ]
  },
  {
   "cell_type": "code",
   "execution_count": 9,
   "id": "795a5ef1",
   "metadata": {},
   "outputs": [],
   "source": [
    "model.compile(optimizer=optimizer, loss=loss_fn , metrics=metrics)"
   ]
  },
  {
   "cell_type": "code",
   "execution_count": 10,
   "id": "23261b78",
   "metadata": {},
   "outputs": [
    {
     "name": "stdout",
     "output_type": "stream",
     "text": [
      "Epoch 1/10\n",
      "200/200 [==============================] - 1s 4ms/step - loss: 0.6146 - accuracy: 0.7427 - val_loss: 0.5692 - val_accuracy: 0.8031\n",
      "Epoch 2/10\n",
      "200/200 [==============================] - 0s 2ms/step - loss: 0.5537 - accuracy: 0.7928 - val_loss: 0.5252 - val_accuracy: 0.8156\n",
      "Epoch 3/10\n",
      "200/200 [==============================] - 0s 2ms/step - loss: 0.5261 - accuracy: 0.7923 - val_loss: 0.5017 - val_accuracy: 0.8156\n",
      "Epoch 4/10\n",
      "200/200 [==============================] - 0s 2ms/step - loss: 0.5105 - accuracy: 0.7923 - val_loss: 0.4870 - val_accuracy: 0.8156\n",
      "Epoch 5/10\n",
      "200/200 [==============================] - 0s 2ms/step - loss: 0.5001 - accuracy: 0.7923 - val_loss: 0.4768 - val_accuracy: 0.8156\n",
      "Epoch 6/10\n",
      "200/200 [==============================] - 1s 4ms/step - loss: 0.4924 - accuracy: 0.7923 - val_loss: 0.4690 - val_accuracy: 0.8156\n",
      "Epoch 7/10\n",
      "200/200 [==============================] - 1s 3ms/step - loss: 0.4862 - accuracy: 0.7923 - val_loss: 0.4629 - val_accuracy: 0.8156\n",
      "Epoch 8/10\n",
      "200/200 [==============================] - 1s 3ms/step - loss: 0.4809 - accuracy: 0.7923 - val_loss: 0.4579 - val_accuracy: 0.8156\n",
      "Epoch 9/10\n",
      "200/200 [==============================] - 1s 3ms/step - loss: 0.4764 - accuracy: 0.7923 - val_loss: 0.4535 - val_accuracy: 0.8156\n",
      "Epoch 10/10\n",
      "200/200 [==============================] - 0s 2ms/step - loss: 0.4723 - accuracy: 0.7923 - val_loss: 0.4498 - val_accuracy: 0.8156\n"
     ]
    },
    {
     "data": {
      "text/plain": [
       "<keras.src.callbacks.History at 0x2689a962d70>"
      ]
     },
     "execution_count": 10,
     "metadata": {},
     "output_type": "execute_result"
    }
   ],
   "source": [
    "# train the model\n",
    "epochs=10\n",
    "batch_size=32\n",
    "model.fit(x_train,y_train,batch_size=batch_size,epochs=epochs,validation_split=0.2)\n"
   ]
  },
  {
   "cell_type": "code",
   "execution_count": 11,
   "id": "83077370",
   "metadata": {},
   "outputs": [
    {
     "name": "stdout",
     "output_type": "stream",
     "text": [
      "63/63 [==============================] - 0s 2ms/step - loss: 0.4642 - accuracy: 0.7935\n",
      "test loss:  0.46420469880104065\n",
      "test Accuracy:  0.7935000061988831\n"
     ]
    }
   ],
   "source": [
    "# Evaluate the model\n",
    "test_loss,test_acc= model.evaluate(x_test,y_test)\n",
    "\n",
    "print('test loss: ',test_loss)\n",
    "print('test Accuracy: ',test_acc)"
   ]
  },
  {
   "cell_type": "markdown",
   "id": "b81650d3",
   "metadata": {},
   "source": [
    "# RMSprop\n",
    "## root mean square propogation"
   ]
  },
  {
   "cell_type": "code",
   "execution_count": 12,
   "id": "7d5e5a99",
   "metadata": {},
   "outputs": [],
   "source": [
    "data= pd.read_csv('C:\\\\Users\\\\Jarvis\\\\Downloads\\\\Churn_Modelling.csv')"
   ]
  },
  {
   "cell_type": "code",
   "execution_count": 20,
   "id": "74bef243",
   "metadata": {},
   "outputs": [],
   "source": [
    "x=data.iloc[:,3:-1]\n",
    "y=data.iloc[:,-1]"
   ]
  },
  {
   "cell_type": "code",
   "execution_count": 21,
   "id": "3af23679",
   "metadata": {},
   "outputs": [],
   "source": [
    "from sklearn.preprocessing import LabelEncoder \n",
    "lb=LabelEncoder()\n",
    "x['Geography']=lb.fit_transform(x[\"Geography\"])\n",
    "x[\"Gender\"]=lb.fit_transform(x[\"Gender\"])"
   ]
  },
  {
   "cell_type": "code",
   "execution_count": 23,
   "id": "c6576c1c",
   "metadata": {},
   "outputs": [],
   "source": [
    "x_train,x_test,y_train,y_test=train_test_split(x,y,test_size=0.2,random_state=24)"
   ]
  },
  {
   "cell_type": "code",
   "execution_count": 24,
   "id": "41c398c2",
   "metadata": {},
   "outputs": [],
   "source": [
    "#standardize the feature\n",
    "scaler=StandardScaler()\n",
    "x_train=scaler.fit_transform(x_train)\n",
    "x_test=scaler.transform(x_test)"
   ]
  },
  {
   "cell_type": "code",
   "execution_count": 25,
   "id": "0b59f821",
   "metadata": {},
   "outputs": [],
   "source": [
    "model= tf.keras.Sequential([\n",
    "    tf.keras.layers.Dense(64,activation='relu',input_dim=x_train.shape[1]),\n",
    "    tf.keras.layers.Dense(64,activation='relu'),\n",
    "    tf.keras.layers.Dense(1,activation='sigmoid')\n",
    "])"
   ]
  },
  {
   "cell_type": "code",
   "execution_count": 26,
   "id": "49da9453",
   "metadata": {},
   "outputs": [],
   "source": [
    "loss_fn=tf.keras.losses.BinaryCrossentropy()\n",
    "metrics=['accuracy']"
   ]
  },
  {
   "cell_type": "code",
   "execution_count": 28,
   "id": "785ba326",
   "metadata": {},
   "outputs": [],
   "source": [
    "learning_rate=0.001\n",
    "optimizer=tf.keras.optimizers.RMSprop(learning_rate=learning_rate)"
   ]
  },
  {
   "cell_type": "code",
   "execution_count": 30,
   "id": "0bfb0543",
   "metadata": {},
   "outputs": [],
   "source": [
    "# compile the model \n",
    "model.compile(optimizer=optimizer,loss=loss_fn,metrics=metrics)"
   ]
  },
  {
   "cell_type": "code",
   "execution_count": 32,
   "id": "7523ca2c",
   "metadata": {},
   "outputs": [
    {
     "name": "stdout",
     "output_type": "stream",
     "text": [
      "Epoch 1/10\n",
      "200/200 [==============================] - 1s 3ms/step - loss: 0.4575 - accuracy: 0.8011 - val_loss: 0.3958 - val_accuracy: 0.8375\n",
      "Epoch 2/10\n",
      "200/200 [==============================] - 1s 3ms/step - loss: 0.3958 - accuracy: 0.8330 - val_loss: 0.3674 - val_accuracy: 0.8506\n",
      "Epoch 3/10\n",
      "200/200 [==============================] - 0s 2ms/step - loss: 0.3723 - accuracy: 0.8441 - val_loss: 0.3479 - val_accuracy: 0.8669\n",
      "Epoch 4/10\n",
      "200/200 [==============================] - 0s 2ms/step - loss: 0.3603 - accuracy: 0.8500 - val_loss: 0.3441 - val_accuracy: 0.8631\n",
      "Epoch 5/10\n",
      "200/200 [==============================] - 0s 2ms/step - loss: 0.3539 - accuracy: 0.8542 - val_loss: 0.3337 - val_accuracy: 0.8650\n",
      "Epoch 6/10\n",
      "200/200 [==============================] - 0s 2ms/step - loss: 0.3507 - accuracy: 0.8552 - val_loss: 0.3358 - val_accuracy: 0.8606\n",
      "Epoch 7/10\n",
      "200/200 [==============================] - 0s 2ms/step - loss: 0.3464 - accuracy: 0.8577 - val_loss: 0.3361 - val_accuracy: 0.8644\n",
      "Epoch 8/10\n",
      "200/200 [==============================] - 0s 2ms/step - loss: 0.3433 - accuracy: 0.8562 - val_loss: 0.3349 - val_accuracy: 0.8644\n",
      "Epoch 9/10\n",
      "200/200 [==============================] - 0s 2ms/step - loss: 0.3413 - accuracy: 0.8592 - val_loss: 0.3299 - val_accuracy: 0.8669\n",
      "Epoch 10/10\n",
      "200/200 [==============================] - 0s 2ms/step - loss: 0.3390 - accuracy: 0.8597 - val_loss: 0.3318 - val_accuracy: 0.8650\n"
     ]
    },
    {
     "data": {
      "text/plain": [
       "<keras.src.callbacks.History at 0x2689dd657e0>"
      ]
     },
     "execution_count": 32,
     "metadata": {},
     "output_type": "execute_result"
    }
   ],
   "source": [
    "# train the model\n",
    "epochs=10\n",
    "batch_size=32\n",
    "model.fit(x_train,y_train,batch_size=batch_size,epochs=epochs,validation_split=0.2)\n"
   ]
  },
  {
   "cell_type": "code",
   "execution_count": 33,
   "id": "9601f6a2",
   "metadata": {},
   "outputs": [
    {
     "name": "stdout",
     "output_type": "stream",
     "text": [
      "63/63 [==============================] - 0s 2ms/step - loss: 0.3553 - accuracy: 0.8555\n",
      "test loss 0.355257123708725\n",
      "test accurracy 0.8554999828338623\n"
     ]
    }
   ],
   "source": [
    "test_loss,test_acc = model.evaluate(x_test,y_test)\n",
    "print('test loss',test_loss)\n",
    "print('test accurracy',test_acc)"
   ]
  },
  {
   "cell_type": "code",
   "execution_count": null,
   "id": "0996942a",
   "metadata": {},
   "outputs": [],
   "source": []
  },
  {
   "cell_type": "code",
   "execution_count": null,
   "id": "bc089f02",
   "metadata": {},
   "outputs": [],
   "source": []
  },
  {
   "cell_type": "markdown",
   "id": "9bd81d33",
   "metadata": {},
   "source": [
    "##  RMSprop on attrition data"
   ]
  },
  {
   "cell_type": "code",
   "execution_count": 35,
   "id": "e6ab7b8b",
   "metadata": {},
   "outputs": [],
   "source": [
    "df= pd.read_csv('C:\\\\Users\\\\Jarvis\\\\Downloads\\\\Attrition.csv')"
   ]
  },
  {
   "cell_type": "code",
   "execution_count": 38,
   "id": "7e1d8780",
   "metadata": {},
   "outputs": [
    {
     "name": "stdout",
     "output_type": "stream",
     "text": [
      "<class 'pandas.core.frame.DataFrame'>\n",
      "RangeIndex: 1470 entries, 0 to 1469\n",
      "Data columns (total 35 columns):\n",
      " #   Column                    Non-Null Count  Dtype \n",
      "---  ------                    --------------  ----- \n",
      " 0   Age                       1470 non-null   int64 \n",
      " 1   Attrition                 1470 non-null   object\n",
      " 2   BusinessTravel            1470 non-null   object\n",
      " 3   DailyRate                 1470 non-null   int64 \n",
      " 4   Department                1470 non-null   object\n",
      " 5   DistanceFromHome          1470 non-null   int64 \n",
      " 6   Education                 1470 non-null   int64 \n",
      " 7   EducationField            1470 non-null   object\n",
      " 8   EmployeeCount             1470 non-null   int64 \n",
      " 9   EmployeeNumber            1470 non-null   int64 \n",
      " 10  EnvironmentSatisfaction   1470 non-null   int64 \n",
      " 11  Gender                    1470 non-null   object\n",
      " 12  HourlyRate                1470 non-null   int64 \n",
      " 13  JobInvolvement            1470 non-null   int64 \n",
      " 14  JobLevel                  1470 non-null   int64 \n",
      " 15  JobRole                   1470 non-null   object\n",
      " 16  JobSatisfaction           1470 non-null   int64 \n",
      " 17  MaritalStatus             1470 non-null   object\n",
      " 18  MonthlyIncome             1470 non-null   int64 \n",
      " 19  MonthlyRate               1470 non-null   int64 \n",
      " 20  NumCompaniesWorked        1470 non-null   int64 \n",
      " 21  Over18                    1470 non-null   object\n",
      " 22  OverTime                  1470 non-null   object\n",
      " 23  PercentSalaryHike         1470 non-null   int64 \n",
      " 24  PerformanceRating         1470 non-null   int64 \n",
      " 25  RelationshipSatisfaction  1470 non-null   int64 \n",
      " 26  StandardHours             1470 non-null   int64 \n",
      " 27  StockOptionLevel          1470 non-null   int64 \n",
      " 28  TotalWorkingYears         1470 non-null   int64 \n",
      " 29  TrainingTimesLastYear     1470 non-null   int64 \n",
      " 30  WorkLifeBalance           1470 non-null   int64 \n",
      " 31  YearsAtCompany            1470 non-null   int64 \n",
      " 32  YearsInCurrentRole        1470 non-null   int64 \n",
      " 33  YearsSinceLastPromotion   1470 non-null   int64 \n",
      " 34  YearsWithCurrManager      1470 non-null   int64 \n",
      "dtypes: int64(26), object(9)\n",
      "memory usage: 402.1+ KB\n"
     ]
    }
   ],
   "source": [
    "df.info()"
   ]
  },
  {
   "cell_type": "code",
   "execution_count": 44,
   "id": "c56f2da8",
   "metadata": {},
   "outputs": [],
   "source": [
    "x = df.drop(columns=['Attrition'])\n",
    "y=df['Attrition']"
   ]
  },
  {
   "cell_type": "code",
   "execution_count": 47,
   "id": "d8d95d8c",
   "metadata": {},
   "outputs": [],
   "source": [
    "encod= ['BusinessTravel','Department','EducationField','Gender','JobRole','MaritalStatus','Over18','OverTime']"
   ]
  },
  {
   "cell_type": "code",
   "execution_count": 51,
   "id": "63639587",
   "metadata": {},
   "outputs": [],
   "source": [
    "x_encoded = pd.get_dummies(x , columns = encod , drop_first = True) \n",
    "y= lb.fit_transform(y)"
   ]
  },
  {
   "cell_type": "code",
   "execution_count": 53,
   "id": "b3b5583c",
   "metadata": {},
   "outputs": [],
   "source": [
    "x_train,x_test,y_train,y_test=train_test_split(x_encoded,y,test_size=0.2,random_state=24)"
   ]
  },
  {
   "cell_type": "code",
   "execution_count": 59,
   "id": "f2332da7",
   "metadata": {},
   "outputs": [],
   "source": [
    "#standardize the feature\n",
    "scaler=StandardScaler()\n",
    "x_train=scaler.fit_transform(x_train)\n",
    "x_test=scaler.transform(x_test)"
   ]
  },
  {
   "cell_type": "code",
   "execution_count": 60,
   "id": "8f8e82ce",
   "metadata": {},
   "outputs": [],
   "source": [
    "# Define the neural network architecture\n",
    "model= tf.keras.Sequential([\n",
    "    tf.keras.layers.Dense(64,activation='relu',input_dim=x_train.shape[1]),\n",
    "    tf.keras.layers.Dense(64,activation='relu'),\n",
    "    tf.keras.layers.Dense(1,activation='sigmoid')\n",
    "])"
   ]
  },
  {
   "cell_type": "code",
   "execution_count": 61,
   "id": "f1ded5c9",
   "metadata": {},
   "outputs": [],
   "source": [
    "# Define the loss function and metrics\n",
    "loss_fn = tf.keras.losses.BinaryCrossentropy()\n",
    "metrics=['accuracy']"
   ]
  },
  {
   "cell_type": "code",
   "execution_count": 66,
   "id": "3c342b41",
   "metadata": {},
   "outputs": [],
   "source": [
    "# Define the optimizer with RMSprop\n",
    "learning_rate = 0.001 \n",
    "\n",
    "optimizer=tf.keras.optimizers.RMSprop(learning_rate=learning_rate)"
   ]
  },
  {
   "cell_type": "code",
   "execution_count": 67,
   "id": "e8252fb9",
   "metadata": {},
   "outputs": [],
   "source": [
    "# compile the model \n",
    "model.compile(optimizer=optimizer,loss=loss_fn,metrics=metrics)"
   ]
  },
  {
   "cell_type": "code",
   "execution_count": 68,
   "id": "a9e9c49a",
   "metadata": {},
   "outputs": [
    {
     "name": "stdout",
     "output_type": "stream",
     "text": [
      "Epoch 1/10\n",
      "30/30 [==============================] - 1s 10ms/step - loss: 0.4543 - accuracy: 0.8255 - val_loss: 0.4729 - val_accuracy: 0.7881\n",
      "Epoch 2/10\n",
      "30/30 [==============================] - 0s 4ms/step - loss: 0.3706 - accuracy: 0.8532 - val_loss: 0.4233 - val_accuracy: 0.7966\n",
      "Epoch 3/10\n",
      "30/30 [==============================] - 0s 4ms/step - loss: 0.3263 - accuracy: 0.8649 - val_loss: 0.4146 - val_accuracy: 0.8008\n",
      "Epoch 4/10\n",
      "30/30 [==============================] - 0s 4ms/step - loss: 0.2930 - accuracy: 0.8894 - val_loss: 0.3964 - val_accuracy: 0.8136\n",
      "Epoch 5/10\n",
      "30/30 [==============================] - 0s 4ms/step - loss: 0.2692 - accuracy: 0.9021 - val_loss: 0.4108 - val_accuracy: 0.8093\n",
      "Epoch 6/10\n",
      "30/30 [==============================] - 0s 5ms/step - loss: 0.2500 - accuracy: 0.9106 - val_loss: 0.3865 - val_accuracy: 0.8263\n",
      "Epoch 7/10\n",
      "30/30 [==============================] - 0s 7ms/step - loss: 0.2335 - accuracy: 0.9202 - val_loss: 0.4045 - val_accuracy: 0.8178\n",
      "Epoch 8/10\n",
      "30/30 [==============================] - 0s 6ms/step - loss: 0.2206 - accuracy: 0.9266 - val_loss: 0.3978 - val_accuracy: 0.8220\n",
      "Epoch 9/10\n",
      "30/30 [==============================] - 0s 4ms/step - loss: 0.2040 - accuracy: 0.9362 - val_loss: 0.4066 - val_accuracy: 0.8305\n",
      "Epoch 10/10\n",
      "30/30 [==============================] - 0s 4ms/step - loss: 0.1931 - accuracy: 0.9319 - val_loss: 0.3994 - val_accuracy: 0.8347\n"
     ]
    },
    {
     "data": {
      "text/plain": [
       "<keras.src.callbacks.History at 0x268a6f46ec0>"
      ]
     },
     "execution_count": 68,
     "metadata": {},
     "output_type": "execute_result"
    }
   ],
   "source": [
    "# train the model\n",
    "epochs=10\n",
    "batch_size=32\n",
    "model.fit(x_train,y_train,batch_size=batch_size,epochs=epochs,validation_split=0.2)\n"
   ]
  },
  {
   "cell_type": "code",
   "execution_count": 69,
   "id": "ad07f736",
   "metadata": {},
   "outputs": [
    {
     "name": "stdout",
     "output_type": "stream",
     "text": [
      "10/10 [==============================] - 0s 3ms/step - loss: 0.4601 - accuracy: 0.8605\n"
     ]
    }
   ],
   "source": [
    "test_loss ,test_acc = model.evaluate(x_test,y_test)"
   ]
  },
  {
   "cell_type": "code",
   "execution_count": 70,
   "id": "08b58cc2",
   "metadata": {},
   "outputs": [
    {
     "name": "stdout",
     "output_type": "stream",
     "text": [
      "test loss 0.46013787388801575\n",
      "test accurracy 0.8605442047119141\n"
     ]
    }
   ],
   "source": [
    "print('test loss',test_loss)\n",
    "print('test accurracy',test_acc)"
   ]
  },
  {
   "cell_type": "code",
   "execution_count": null,
   "id": "fb4bde14",
   "metadata": {},
   "outputs": [],
   "source": []
  }
 ],
 "metadata": {
  "kernelspec": {
   "display_name": "Python 3 (ipykernel)",
   "language": "python",
   "name": "python3"
  },
  "language_info": {
   "codemirror_mode": {
    "name": "ipython",
    "version": 3
   },
   "file_extension": ".py",
   "mimetype": "text/x-python",
   "name": "python",
   "nbconvert_exporter": "python",
   "pygments_lexer": "ipython3",
   "version": "3.10.9"
  }
 },
 "nbformat": 4,
 "nbformat_minor": 5
}
