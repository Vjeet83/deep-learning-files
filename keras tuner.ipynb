{
 "cells": [
  {
   "cell_type": "code",
   "execution_count": 2,
   "id": "25d2c712",
   "metadata": {},
   "outputs": [],
   "source": [
    "import pandas as pd\n",
    "import numpy as np\n"
   ]
  },
  {
   "cell_type": "code",
   "execution_count": 5,
   "id": "9b950652",
   "metadata": {},
   "outputs": [],
   "source": [
    "df = pd.read_csv(\"D:\\\\Downloadss\\\\diabetes_file\\\\diabetes.csv\")"
   ]
  },
  {
   "cell_type": "code",
   "execution_count": 6,
   "id": "2e82bf19",
   "metadata": {},
   "outputs": [
    {
     "data": {
      "text/html": [
       "<div>\n",
       "<style scoped>\n",
       "    .dataframe tbody tr th:only-of-type {\n",
       "        vertical-align: middle;\n",
       "    }\n",
       "\n",
       "    .dataframe tbody tr th {\n",
       "        vertical-align: top;\n",
       "    }\n",
       "\n",
       "    .dataframe thead th {\n",
       "        text-align: right;\n",
       "    }\n",
       "</style>\n",
       "<table border=\"1\" class=\"dataframe\">\n",
       "  <thead>\n",
       "    <tr style=\"text-align: right;\">\n",
       "      <th></th>\n",
       "      <th>Pregnancies</th>\n",
       "      <th>Glucose</th>\n",
       "      <th>BloodPressure</th>\n",
       "      <th>SkinThickness</th>\n",
       "      <th>Insulin</th>\n",
       "      <th>BMI</th>\n",
       "      <th>DiabetesPedigreeFunction</th>\n",
       "      <th>Age</th>\n",
       "      <th>Outcome</th>\n",
       "    </tr>\n",
       "  </thead>\n",
       "  <tbody>\n",
       "    <tr>\n",
       "      <th>0</th>\n",
       "      <td>6</td>\n",
       "      <td>148</td>\n",
       "      <td>72</td>\n",
       "      <td>35</td>\n",
       "      <td>0</td>\n",
       "      <td>33.6</td>\n",
       "      <td>0.627</td>\n",
       "      <td>50</td>\n",
       "      <td>1</td>\n",
       "    </tr>\n",
       "    <tr>\n",
       "      <th>1</th>\n",
       "      <td>1</td>\n",
       "      <td>85</td>\n",
       "      <td>66</td>\n",
       "      <td>29</td>\n",
       "      <td>0</td>\n",
       "      <td>26.6</td>\n",
       "      <td>0.351</td>\n",
       "      <td>31</td>\n",
       "      <td>0</td>\n",
       "    </tr>\n",
       "    <tr>\n",
       "      <th>2</th>\n",
       "      <td>8</td>\n",
       "      <td>183</td>\n",
       "      <td>64</td>\n",
       "      <td>0</td>\n",
       "      <td>0</td>\n",
       "      <td>23.3</td>\n",
       "      <td>0.672</td>\n",
       "      <td>32</td>\n",
       "      <td>1</td>\n",
       "    </tr>\n",
       "    <tr>\n",
       "      <th>3</th>\n",
       "      <td>1</td>\n",
       "      <td>89</td>\n",
       "      <td>66</td>\n",
       "      <td>23</td>\n",
       "      <td>94</td>\n",
       "      <td>28.1</td>\n",
       "      <td>0.167</td>\n",
       "      <td>21</td>\n",
       "      <td>0</td>\n",
       "    </tr>\n",
       "    <tr>\n",
       "      <th>4</th>\n",
       "      <td>0</td>\n",
       "      <td>137</td>\n",
       "      <td>40</td>\n",
       "      <td>35</td>\n",
       "      <td>168</td>\n",
       "      <td>43.1</td>\n",
       "      <td>2.288</td>\n",
       "      <td>33</td>\n",
       "      <td>1</td>\n",
       "    </tr>\n",
       "    <tr>\n",
       "      <th>...</th>\n",
       "      <td>...</td>\n",
       "      <td>...</td>\n",
       "      <td>...</td>\n",
       "      <td>...</td>\n",
       "      <td>...</td>\n",
       "      <td>...</td>\n",
       "      <td>...</td>\n",
       "      <td>...</td>\n",
       "      <td>...</td>\n",
       "    </tr>\n",
       "    <tr>\n",
       "      <th>763</th>\n",
       "      <td>10</td>\n",
       "      <td>101</td>\n",
       "      <td>76</td>\n",
       "      <td>48</td>\n",
       "      <td>180</td>\n",
       "      <td>32.9</td>\n",
       "      <td>0.171</td>\n",
       "      <td>63</td>\n",
       "      <td>0</td>\n",
       "    </tr>\n",
       "    <tr>\n",
       "      <th>764</th>\n",
       "      <td>2</td>\n",
       "      <td>122</td>\n",
       "      <td>70</td>\n",
       "      <td>27</td>\n",
       "      <td>0</td>\n",
       "      <td>36.8</td>\n",
       "      <td>0.340</td>\n",
       "      <td>27</td>\n",
       "      <td>0</td>\n",
       "    </tr>\n",
       "    <tr>\n",
       "      <th>765</th>\n",
       "      <td>5</td>\n",
       "      <td>121</td>\n",
       "      <td>72</td>\n",
       "      <td>23</td>\n",
       "      <td>112</td>\n",
       "      <td>26.2</td>\n",
       "      <td>0.245</td>\n",
       "      <td>30</td>\n",
       "      <td>0</td>\n",
       "    </tr>\n",
       "    <tr>\n",
       "      <th>766</th>\n",
       "      <td>1</td>\n",
       "      <td>126</td>\n",
       "      <td>60</td>\n",
       "      <td>0</td>\n",
       "      <td>0</td>\n",
       "      <td>30.1</td>\n",
       "      <td>0.349</td>\n",
       "      <td>47</td>\n",
       "      <td>1</td>\n",
       "    </tr>\n",
       "    <tr>\n",
       "      <th>767</th>\n",
       "      <td>1</td>\n",
       "      <td>93</td>\n",
       "      <td>70</td>\n",
       "      <td>31</td>\n",
       "      <td>0</td>\n",
       "      <td>30.4</td>\n",
       "      <td>0.315</td>\n",
       "      <td>23</td>\n",
       "      <td>0</td>\n",
       "    </tr>\n",
       "  </tbody>\n",
       "</table>\n",
       "<p>768 rows × 9 columns</p>\n",
       "</div>"
      ],
      "text/plain": [
       "     Pregnancies  Glucose  BloodPressure  SkinThickness  Insulin   BMI  \\\n",
       "0              6      148             72             35        0  33.6   \n",
       "1              1       85             66             29        0  26.6   \n",
       "2              8      183             64              0        0  23.3   \n",
       "3              1       89             66             23       94  28.1   \n",
       "4              0      137             40             35      168  43.1   \n",
       "..           ...      ...            ...            ...      ...   ...   \n",
       "763           10      101             76             48      180  32.9   \n",
       "764            2      122             70             27        0  36.8   \n",
       "765            5      121             72             23      112  26.2   \n",
       "766            1      126             60              0        0  30.1   \n",
       "767            1       93             70             31        0  30.4   \n",
       "\n",
       "     DiabetesPedigreeFunction  Age  Outcome  \n",
       "0                       0.627   50        1  \n",
       "1                       0.351   31        0  \n",
       "2                       0.672   32        1  \n",
       "3                       0.167   21        0  \n",
       "4                       2.288   33        1  \n",
       "..                        ...  ...      ...  \n",
       "763                     0.171   63        0  \n",
       "764                     0.340   27        0  \n",
       "765                     0.245   30        0  \n",
       "766                     0.349   47        1  \n",
       "767                     0.315   23        0  \n",
       "\n",
       "[768 rows x 9 columns]"
      ]
     },
     "execution_count": 6,
     "metadata": {},
     "output_type": "execute_result"
    }
   ],
   "source": [
    "df"
   ]
  },
  {
   "cell_type": "code",
   "execution_count": 7,
   "id": "2574ac7b",
   "metadata": {},
   "outputs": [
    {
     "data": {
      "text/plain": [
       "Pregnancies                 0.221898\n",
       "Glucose                     0.466581\n",
       "BloodPressure               0.065068\n",
       "SkinThickness               0.074752\n",
       "Insulin                     0.130548\n",
       "BMI                         0.292695\n",
       "DiabetesPedigreeFunction    0.173844\n",
       "Age                         0.238356\n",
       "Outcome                     1.000000\n",
       "Name: Outcome, dtype: float64"
      ]
     },
     "execution_count": 7,
     "metadata": {},
     "output_type": "execute_result"
    }
   ],
   "source": [
    "df.corr()['Outcome']"
   ]
  },
  {
   "cell_type": "code",
   "execution_count": 8,
   "id": "ba28551c",
   "metadata": {},
   "outputs": [
    {
     "data": {
      "text/plain": [
       "array([[  6.   , 148.   ,  72.   , ...,  33.6  ,   0.627,  50.   ],\n",
       "       [  1.   ,  85.   ,  66.   , ...,  26.6  ,   0.351,  31.   ],\n",
       "       [  8.   , 183.   ,  64.   , ...,  23.3  ,   0.672,  32.   ],\n",
       "       ...,\n",
       "       [  5.   , 121.   ,  72.   , ...,  26.2  ,   0.245,  30.   ],\n",
       "       [  1.   , 126.   ,  60.   , ...,  30.1  ,   0.349,  47.   ],\n",
       "       [  1.   ,  93.   ,  70.   , ...,  30.4  ,   0.315,  23.   ]])"
      ]
     },
     "execution_count": 8,
     "metadata": {},
     "output_type": "execute_result"
    }
   ],
   "source": [
    "x=df.iloc[:,:-1].values\n",
    "x"
   ]
  },
  {
   "cell_type": "code",
   "execution_count": 9,
   "id": "c0a41c44",
   "metadata": {},
   "outputs": [
    {
     "data": {
      "text/plain": [
       "0      1\n",
       "1      0\n",
       "2      1\n",
       "3      0\n",
       "4      1\n",
       "      ..\n",
       "763    0\n",
       "764    0\n",
       "765    0\n",
       "766    1\n",
       "767    0\n",
       "Name: Outcome, Length: 768, dtype: int64"
      ]
     },
     "execution_count": 9,
     "metadata": {},
     "output_type": "execute_result"
    }
   ],
   "source": [
    "y=df.iloc[:,-1]\n",
    "y"
   ]
  },
  {
   "cell_type": "code",
   "execution_count": 10,
   "id": "b638ab51",
   "metadata": {},
   "outputs": [],
   "source": [
    "from sklearn.preprocessing import StandardScaler\n",
    "scal=StandardScaler()\n"
   ]
  },
  {
   "cell_type": "code",
   "execution_count": 11,
   "id": "bad8e632",
   "metadata": {},
   "outputs": [],
   "source": [
    "x = scal.fit_transform(x)"
   ]
  },
  {
   "cell_type": "code",
   "execution_count": 12,
   "id": "0f262591",
   "metadata": {},
   "outputs": [
    {
     "data": {
      "text/plain": [
       "(768, 8)"
      ]
     },
     "execution_count": 12,
     "metadata": {},
     "output_type": "execute_result"
    }
   ],
   "source": [
    "x.shape"
   ]
  },
  {
   "cell_type": "code",
   "execution_count": 13,
   "id": "14d0ba28",
   "metadata": {},
   "outputs": [],
   "source": [
    "from sklearn.model_selection import train_test_split\n",
    "x_train,x_test,y_train,y_test = train_test_split(x,y,test_size=0.2,random_state=43)"
   ]
  },
  {
   "cell_type": "code",
   "execution_count": 15,
   "id": "1b9ad242",
   "metadata": {},
   "outputs": [],
   "source": [
    "import tensorflow \n",
    "from tensorflow import keras \n",
    "from keras import Sequential\n",
    "from keras.layers import Dense"
   ]
  },
  {
   "cell_type": "code",
   "execution_count": 16,
   "id": "644c493e",
   "metadata": {},
   "outputs": [],
   "source": [
    "model = Sequential()\n",
    "model.add(Dense(32,input_dim=8,activation='relu'))\n",
    "model.add(Dense(1,activation='sigmoid'))\n",
    "\n",
    "model.compile(optimizer='Adam',loss='binary_crossentropy' ,metrics=['accuracy'])"
   ]
  },
  {
   "cell_type": "code",
   "execution_count": 17,
   "id": "07b2854b",
   "metadata": {},
   "outputs": [
    {
     "name": "stdout",
     "output_type": "stream",
     "text": [
      "Epoch 1/10\n",
      "20/20 [==============================] - 4s 21ms/step - loss: 0.7774 - accuracy: 0.3811 - val_loss: 0.7373 - val_accuracy: 0.4286\n",
      "Epoch 2/10\n",
      "20/20 [==============================] - 0s 4ms/step - loss: 0.7039 - accuracy: 0.5049 - val_loss: 0.6734 - val_accuracy: 0.6104\n",
      "Epoch 3/10\n",
      "20/20 [==============================] - 0s 5ms/step - loss: 0.6483 - accuracy: 0.6596 - val_loss: 0.6275 - val_accuracy: 0.6688\n",
      "Epoch 4/10\n",
      "20/20 [==============================] - 0s 4ms/step - loss: 0.6064 - accuracy: 0.6954 - val_loss: 0.5925 - val_accuracy: 0.7013\n",
      "Epoch 5/10\n",
      "20/20 [==============================] - 0s 5ms/step - loss: 0.5739 - accuracy: 0.7101 - val_loss: 0.5669 - val_accuracy: 0.6883\n",
      "Epoch 6/10\n",
      "20/20 [==============================] - 0s 5ms/step - loss: 0.5488 - accuracy: 0.7199 - val_loss: 0.5510 - val_accuracy: 0.6948\n",
      "Epoch 7/10\n",
      "20/20 [==============================] - 0s 6ms/step - loss: 0.5312 - accuracy: 0.7378 - val_loss: 0.5379 - val_accuracy: 0.7078\n",
      "Epoch 8/10\n",
      "20/20 [==============================] - 0s 5ms/step - loss: 0.5157 - accuracy: 0.7508 - val_loss: 0.5292 - val_accuracy: 0.7143\n",
      "Epoch 9/10\n",
      "20/20 [==============================] - 0s 5ms/step - loss: 0.5041 - accuracy: 0.7606 - val_loss: 0.5237 - val_accuracy: 0.7143\n",
      "Epoch 10/10\n",
      "20/20 [==============================] - 0s 6ms/step - loss: 0.4945 - accuracy: 0.7638 - val_loss: 0.5185 - val_accuracy: 0.7143\n"
     ]
    },
    {
     "data": {
      "text/plain": [
       "<keras.src.callbacks.History at 0x16e4ce1d510>"
      ]
     },
     "execution_count": 17,
     "metadata": {},
     "output_type": "execute_result"
    }
   ],
   "source": [
    "model.fit(x_train,y_train,batch_size=32,epochs=10,validation_data=(x_test,y_test))"
   ]
  },
  {
   "cell_type": "code",
   "execution_count": null,
   "id": "90ee59a9",
   "metadata": {},
   "outputs": [],
   "source": [
    "# how to select appropriate optimixer \n",
    "# 2, no, of nodel in a layer\n",
    "#  3, how to select no. of layers\n",
    "# r.All in one model\n"
   ]
  },
  {
   "cell_type": "code",
   "execution_count": 34,
   "id": "198f1e1a",
   "metadata": {},
   "outputs": [
    {
     "name": "stdout",
     "output_type": "stream",
     "text": [
      "Requirement already satisfied: keras-tuner in c:\\users\\jarvis\\anaconda3\\lib\\site-packages (1.4.5)\n",
      "Requirement already satisfied: keras-core in c:\\users\\jarvis\\anaconda3\\lib\\site-packages (from keras-tuner) (0.1.7)\n",
      "Requirement already satisfied: packaging in c:\\users\\jarvis\\anaconda3\\lib\\site-packages (from keras-tuner) (22.0)\n",
      "Requirement already satisfied: requests in c:\\users\\jarvis\\anaconda3\\lib\\site-packages (from keras-tuner) (2.31.0)\n",
      "Requirement already satisfied: kt-legacy in c:\\users\\jarvis\\anaconda3\\lib\\site-packages (from keras-tuner) (1.0.5)\n",
      "Requirement already satisfied: absl-py in c:\\users\\jarvis\\anaconda3\\lib\\site-packages (from keras-core->keras-tuner) (1.4.0)\n",
      "Requirement already satisfied: numpy in c:\\users\\jarvis\\anaconda3\\lib\\site-packages (from keras-core->keras-tuner) (1.23.5)\n",
      "Requirement already satisfied: rich in c:\\users\\jarvis\\anaconda3\\lib\\site-packages (from keras-core->keras-tuner) (13.6.0)\n",
      "Requirement already satisfied: namex in c:\\users\\jarvis\\anaconda3\\lib\\site-packages (from keras-core->keras-tuner) (0.0.7)\n",
      "Requirement already satisfied: h5py in c:\\users\\jarvis\\anaconda3\\lib\\site-packages (from keras-core->keras-tuner) (3.7.0)\n",
      "Requirement already satisfied: dm-tree in c:\\users\\jarvis\\anaconda3\\lib\\site-packages (from keras-core->keras-tuner) (0.1.8)\n",
      "Requirement already satisfied: charset-normalizer<4,>=2 in c:\\users\\jarvis\\anaconda3\\lib\\site-packages (from requests->keras-tuner) (2.0.4)\n",
      "Requirement already satisfied: idna<4,>=2.5 in c:\\users\\jarvis\\anaconda3\\lib\\site-packages (from requests->keras-tuner) (3.4)\n",
      "Requirement already satisfied: urllib3<3,>=1.21.1 in c:\\users\\jarvis\\anaconda3\\lib\\site-packages (from requests->keras-tuner) (1.26.14)\n",
      "Requirement already satisfied: certifi>=2017.4.17 in c:\\users\\jarvis\\anaconda3\\lib\\site-packages (from requests->keras-tuner) (2022.12.7)\n",
      "Requirement already satisfied: markdown-it-py>=2.2.0 in c:\\users\\jarvis\\anaconda3\\lib\\site-packages (from rich->keras-core->keras-tuner) (3.0.0)\n",
      "Requirement already satisfied: pygments<3.0.0,>=2.13.0 in c:\\users\\jarvis\\anaconda3\\lib\\site-packages (from rich->keras-core->keras-tuner) (2.16.1)\n",
      "Requirement already satisfied: mdurl~=0.1 in c:\\users\\jarvis\\anaconda3\\lib\\site-packages (from markdown-it-py>=2.2.0->rich->keras-core->keras-tuner) (0.1.2)\n",
      "Note: you may need to restart the kernel to use updated packages.\n"
     ]
    }
   ],
   "source": [
    "# pip install -U keras-tuner"
   ]
  },
  {
   "cell_type": "code",
   "execution_count": 18,
   "id": "2e8fb6d6",
   "metadata": {},
   "outputs": [
    {
     "name": "stdout",
     "output_type": "stream",
     "text": [
      "Using TensorFlow backend\n"
     ]
    },
    {
     "name": "stderr",
     "output_type": "stream",
     "text": [
      "C:\\Users\\Jarvis\\AppData\\Local\\Temp\\ipykernel_17104\\1654478174.py:1: DeprecationWarning: `import kerastuner` is deprecated, please use `import keras_tuner`.\n",
      "  import kerastuner as kt\n"
     ]
    }
   ],
   "source": [
    "import kerastuner as kt"
   ]
  },
  {
   "cell_type": "code",
   "execution_count": 19,
   "id": "59ea6e0c",
   "metadata": {},
   "outputs": [],
   "source": [
    "def build_model(hc):\n",
    "    model = Sequential()\n",
    "    model.add(Dense(32,activation='relu',input_dim=8))\n",
    "    model.add(Dense(1,activation='sigmoid'))\n",
    "\n",
    "    opt = hc.Choice('optimizersss',values=['adam','sgd','rmsprop','adadelta'])\n",
    "    model.compile(optimizer=opt ,loss='binary_crossentropy',metrics=['accuracy'])\n",
    "    \n",
    "    return model"
   ]
  },
  {
   "cell_type": "code",
   "execution_count": 20,
   "id": "a986b3f0",
   "metadata": {},
   "outputs": [
    {
     "name": "stdout",
     "output_type": "stream",
     "text": [
      "Reloading Tuner from .\\untitled_project\\tuner0.json\n"
     ]
    }
   ],
   "source": [
    "tuner = kt.RandomSearch(build_model,\n",
    "                       objective = 'val_accuracy',\n",
    "                       max_trials=5)\n"
   ]
  },
  {
   "cell_type": "code",
   "execution_count": 21,
   "id": "fe877f84",
   "metadata": {},
   "outputs": [],
   "source": [
    "tuner.search(x_train,y_train,epochs=5,validation_data=(x_test,y_test))"
   ]
  },
  {
   "cell_type": "code",
   "execution_count": 22,
   "id": "8bb847f4",
   "metadata": {},
   "outputs": [
    {
     "data": {
      "text/plain": [
       "{'optimizersss': 'adam'}"
      ]
     },
     "execution_count": 22,
     "metadata": {},
     "output_type": "execute_result"
    }
   ],
   "source": [
    "tuner.get_best_hyperparameters()[0].values"
   ]
  },
  {
   "cell_type": "code",
   "execution_count": 23,
   "id": "24333eb0",
   "metadata": {},
   "outputs": [
    {
     "name": "stdout",
     "output_type": "stream",
     "text": [
      "Model: \"sequential\"\n",
      "_________________________________________________________________\n",
      " Layer (type)                Output Shape              Param #   \n",
      "=================================================================\n",
      " dense (Dense)               (None, 32)                288       \n",
      "                                                                 \n",
      " dense_1 (Dense)             (None, 1)                 33        \n",
      "                                                                 \n",
      "=================================================================\n",
      "Total params: 321 (1.25 KB)\n",
      "Trainable params: 321 (1.25 KB)\n",
      "Non-trainable params: 0 (0.00 Byte)\n",
      "_________________________________________________________________\n"
     ]
    }
   ],
   "source": [
    "# get best model\n",
    "model = tuner.get_best_models(num_models=1)[0]\n",
    "model.summary()\n"
   ]
  },
  {
   "cell_type": "code",
   "execution_count": 24,
   "id": "2ae6e4e8",
   "metadata": {},
   "outputs": [
    {
     "name": "stdout",
     "output_type": "stream",
     "text": [
      "Epoch 7/100\n",
      "20/20 [==============================] - 1s 13ms/step - loss: 0.5269 - accuracy: 0.7541 - val_loss: 0.5280 - val_accuracy: 0.7727\n",
      "Epoch 8/100\n",
      "20/20 [==============================] - 0s 4ms/step - loss: 0.5126 - accuracy: 0.7638 - val_loss: 0.5173 - val_accuracy: 0.7727\n",
      "Epoch 9/100\n",
      "20/20 [==============================] - 0s 4ms/step - loss: 0.5013 - accuracy: 0.7622 - val_loss: 0.5105 - val_accuracy: 0.7792\n",
      "Epoch 10/100\n",
      "20/20 [==============================] - 0s 4ms/step - loss: 0.4909 - accuracy: 0.7655 - val_loss: 0.5035 - val_accuracy: 0.7857\n",
      "Epoch 11/100\n",
      "20/20 [==============================] - 0s 4ms/step - loss: 0.4826 - accuracy: 0.7720 - val_loss: 0.4994 - val_accuracy: 0.7792\n",
      "Epoch 12/100\n",
      "20/20 [==============================] - 0s 4ms/step - loss: 0.4755 - accuracy: 0.7720 - val_loss: 0.4967 - val_accuracy: 0.7792\n",
      "Epoch 13/100\n",
      "20/20 [==============================] - 0s 4ms/step - loss: 0.4708 - accuracy: 0.7687 - val_loss: 0.4942 - val_accuracy: 0.7857\n",
      "Epoch 14/100\n",
      "20/20 [==============================] - 0s 4ms/step - loss: 0.4662 - accuracy: 0.7752 - val_loss: 0.4933 - val_accuracy: 0.7857\n",
      "Epoch 15/100\n",
      "20/20 [==============================] - 0s 5ms/step - loss: 0.4632 - accuracy: 0.7785 - val_loss: 0.4927 - val_accuracy: 0.7922\n",
      "Epoch 16/100\n",
      "20/20 [==============================] - 0s 4ms/step - loss: 0.4605 - accuracy: 0.7769 - val_loss: 0.4928 - val_accuracy: 0.7922\n",
      "Epoch 17/100\n",
      "20/20 [==============================] - 0s 4ms/step - loss: 0.4579 - accuracy: 0.7818 - val_loss: 0.4922 - val_accuracy: 0.7857\n",
      "Epoch 18/100\n",
      "20/20 [==============================] - 0s 5ms/step - loss: 0.4552 - accuracy: 0.7883 - val_loss: 0.4915 - val_accuracy: 0.7857\n",
      "Epoch 19/100\n",
      "20/20 [==============================] - 0s 5ms/step - loss: 0.4533 - accuracy: 0.7850 - val_loss: 0.4920 - val_accuracy: 0.7857\n",
      "Epoch 20/100\n",
      "20/20 [==============================] - 0s 5ms/step - loss: 0.4518 - accuracy: 0.7866 - val_loss: 0.4909 - val_accuracy: 0.7922\n",
      "Epoch 21/100\n",
      "20/20 [==============================] - 0s 4ms/step - loss: 0.4497 - accuracy: 0.7818 - val_loss: 0.4914 - val_accuracy: 0.7922\n",
      "Epoch 22/100\n",
      "20/20 [==============================] - 0s 4ms/step - loss: 0.4487 - accuracy: 0.7866 - val_loss: 0.4940 - val_accuracy: 0.7857\n",
      "Epoch 23/100\n",
      "20/20 [==============================] - 0s 4ms/step - loss: 0.4471 - accuracy: 0.7866 - val_loss: 0.4931 - val_accuracy: 0.7922\n",
      "Epoch 24/100\n",
      "20/20 [==============================] - 0s 4ms/step - loss: 0.4464 - accuracy: 0.7866 - val_loss: 0.4934 - val_accuracy: 0.7922\n",
      "Epoch 25/100\n",
      "20/20 [==============================] - 0s 4ms/step - loss: 0.4449 - accuracy: 0.7866 - val_loss: 0.4939 - val_accuracy: 0.7857\n",
      "Epoch 26/100\n",
      "20/20 [==============================] - 0s 4ms/step - loss: 0.4442 - accuracy: 0.7850 - val_loss: 0.4962 - val_accuracy: 0.7857\n",
      "Epoch 27/100\n",
      "20/20 [==============================] - 0s 6ms/step - loss: 0.4434 - accuracy: 0.7899 - val_loss: 0.4963 - val_accuracy: 0.7792\n",
      "Epoch 28/100\n",
      "20/20 [==============================] - 0s 6ms/step - loss: 0.4421 - accuracy: 0.7932 - val_loss: 0.4975 - val_accuracy: 0.7727\n",
      "Epoch 29/100\n",
      "20/20 [==============================] - 0s 6ms/step - loss: 0.4416 - accuracy: 0.7932 - val_loss: 0.4974 - val_accuracy: 0.7857\n",
      "Epoch 30/100\n",
      "20/20 [==============================] - 0s 6ms/step - loss: 0.4407 - accuracy: 0.7899 - val_loss: 0.4989 - val_accuracy: 0.7727\n",
      "Epoch 31/100\n",
      "20/20 [==============================] - 0s 6ms/step - loss: 0.4402 - accuracy: 0.7948 - val_loss: 0.4985 - val_accuracy: 0.7792\n",
      "Epoch 32/100\n",
      "20/20 [==============================] - 0s 6ms/step - loss: 0.4393 - accuracy: 0.7932 - val_loss: 0.4985 - val_accuracy: 0.7792\n",
      "Epoch 33/100\n",
      "20/20 [==============================] - 0s 5ms/step - loss: 0.4385 - accuracy: 0.7932 - val_loss: 0.4994 - val_accuracy: 0.7727\n",
      "Epoch 34/100\n",
      "20/20 [==============================] - 0s 4ms/step - loss: 0.4383 - accuracy: 0.7948 - val_loss: 0.4998 - val_accuracy: 0.7727\n",
      "Epoch 35/100\n",
      "20/20 [==============================] - 0s 6ms/step - loss: 0.4377 - accuracy: 0.7948 - val_loss: 0.5023 - val_accuracy: 0.7662\n",
      "Epoch 36/100\n",
      "20/20 [==============================] - 0s 6ms/step - loss: 0.4364 - accuracy: 0.7932 - val_loss: 0.5007 - val_accuracy: 0.7792\n",
      "Epoch 37/100\n",
      "20/20 [==============================] - 0s 7ms/step - loss: 0.4360 - accuracy: 0.7948 - val_loss: 0.5017 - val_accuracy: 0.7727\n",
      "Epoch 38/100\n",
      "20/20 [==============================] - 0s 5ms/step - loss: 0.4356 - accuracy: 0.7932 - val_loss: 0.4996 - val_accuracy: 0.7792\n",
      "Epoch 39/100\n",
      "20/20 [==============================] - 0s 6ms/step - loss: 0.4354 - accuracy: 0.7883 - val_loss: 0.5004 - val_accuracy: 0.7792\n",
      "Epoch 40/100\n",
      "20/20 [==============================] - 0s 5ms/step - loss: 0.4344 - accuracy: 0.7932 - val_loss: 0.5010 - val_accuracy: 0.7727\n",
      "Epoch 41/100\n",
      "20/20 [==============================] - 0s 8ms/step - loss: 0.4339 - accuracy: 0.7932 - val_loss: 0.5007 - val_accuracy: 0.7727\n",
      "Epoch 42/100\n",
      "20/20 [==============================] - 0s 7ms/step - loss: 0.4332 - accuracy: 0.7932 - val_loss: 0.5022 - val_accuracy: 0.7727\n",
      "Epoch 43/100\n",
      "20/20 [==============================] - 0s 5ms/step - loss: 0.4324 - accuracy: 0.7948 - val_loss: 0.5020 - val_accuracy: 0.7727\n",
      "Epoch 44/100\n",
      "20/20 [==============================] - 0s 5ms/step - loss: 0.4320 - accuracy: 0.7948 - val_loss: 0.5020 - val_accuracy: 0.7727\n",
      "Epoch 45/100\n",
      "20/20 [==============================] - 0s 6ms/step - loss: 0.4316 - accuracy: 0.7932 - val_loss: 0.5035 - val_accuracy: 0.7727\n",
      "Epoch 46/100\n",
      "20/20 [==============================] - 0s 6ms/step - loss: 0.4310 - accuracy: 0.7964 - val_loss: 0.5042 - val_accuracy: 0.7662\n",
      "Epoch 47/100\n",
      "20/20 [==============================] - 0s 5ms/step - loss: 0.4310 - accuracy: 0.7964 - val_loss: 0.5024 - val_accuracy: 0.7857\n",
      "Epoch 48/100\n",
      "20/20 [==============================] - 0s 4ms/step - loss: 0.4303 - accuracy: 0.7997 - val_loss: 0.5042 - val_accuracy: 0.7792\n",
      "Epoch 49/100\n",
      "20/20 [==============================] - 0s 5ms/step - loss: 0.4294 - accuracy: 0.8029 - val_loss: 0.5032 - val_accuracy: 0.7727\n",
      "Epoch 50/100\n",
      "20/20 [==============================] - 0s 5ms/step - loss: 0.4288 - accuracy: 0.7964 - val_loss: 0.5046 - val_accuracy: 0.7727\n",
      "Epoch 51/100\n",
      "20/20 [==============================] - 0s 4ms/step - loss: 0.4282 - accuracy: 0.7964 - val_loss: 0.5056 - val_accuracy: 0.7727\n",
      "Epoch 52/100\n",
      "20/20 [==============================] - 0s 5ms/step - loss: 0.4277 - accuracy: 0.7997 - val_loss: 0.5049 - val_accuracy: 0.7727\n",
      "Epoch 53/100\n",
      "20/20 [==============================] - 0s 6ms/step - loss: 0.4275 - accuracy: 0.7964 - val_loss: 0.5070 - val_accuracy: 0.7792\n",
      "Epoch 54/100\n",
      "20/20 [==============================] - 0s 5ms/step - loss: 0.4270 - accuracy: 0.7997 - val_loss: 0.5066 - val_accuracy: 0.7727\n",
      "Epoch 55/100\n",
      "20/20 [==============================] - 0s 6ms/step - loss: 0.4263 - accuracy: 0.7997 - val_loss: 0.5052 - val_accuracy: 0.7792\n",
      "Epoch 56/100\n",
      "20/20 [==============================] - 0s 4ms/step - loss: 0.4265 - accuracy: 0.8013 - val_loss: 0.5066 - val_accuracy: 0.7792\n",
      "Epoch 57/100\n",
      "20/20 [==============================] - 0s 4ms/step - loss: 0.4253 - accuracy: 0.8013 - val_loss: 0.5058 - val_accuracy: 0.7792\n",
      "Epoch 58/100\n",
      "20/20 [==============================] - 0s 5ms/step - loss: 0.4254 - accuracy: 0.7997 - val_loss: 0.5061 - val_accuracy: 0.7792\n",
      "Epoch 59/100\n",
      "20/20 [==============================] - 0s 5ms/step - loss: 0.4249 - accuracy: 0.8013 - val_loss: 0.5050 - val_accuracy: 0.7727\n",
      "Epoch 60/100\n",
      "20/20 [==============================] - 0s 5ms/step - loss: 0.4248 - accuracy: 0.8046 - val_loss: 0.5071 - val_accuracy: 0.7727\n",
      "Epoch 61/100\n",
      "20/20 [==============================] - 0s 6ms/step - loss: 0.4237 - accuracy: 0.8029 - val_loss: 0.5087 - val_accuracy: 0.7727\n",
      "Epoch 62/100\n",
      "20/20 [==============================] - 0s 6ms/step - loss: 0.4238 - accuracy: 0.8046 - val_loss: 0.5079 - val_accuracy: 0.7727\n",
      "Epoch 63/100\n",
      "20/20 [==============================] - 0s 8ms/step - loss: 0.4232 - accuracy: 0.8062 - val_loss: 0.5082 - val_accuracy: 0.7727\n",
      "Epoch 64/100\n",
      "20/20 [==============================] - 0s 8ms/step - loss: 0.4227 - accuracy: 0.8062 - val_loss: 0.5096 - val_accuracy: 0.7662\n"
     ]
    },
    {
     "name": "stdout",
     "output_type": "stream",
     "text": [
      "Epoch 65/100\n",
      "20/20 [==============================] - 0s 5ms/step - loss: 0.4226 - accuracy: 0.8062 - val_loss: 0.5069 - val_accuracy: 0.7727\n",
      "Epoch 66/100\n",
      "20/20 [==============================] - 0s 4ms/step - loss: 0.4230 - accuracy: 0.8078 - val_loss: 0.5104 - val_accuracy: 0.7662\n",
      "Epoch 67/100\n",
      "20/20 [==============================] - 0s 4ms/step - loss: 0.4213 - accuracy: 0.8127 - val_loss: 0.5100 - val_accuracy: 0.7662\n",
      "Epoch 68/100\n",
      "20/20 [==============================] - 0s 4ms/step - loss: 0.4209 - accuracy: 0.8111 - val_loss: 0.5089 - val_accuracy: 0.7662\n",
      "Epoch 69/100\n",
      "20/20 [==============================] - 0s 5ms/step - loss: 0.4211 - accuracy: 0.8127 - val_loss: 0.5082 - val_accuracy: 0.7727\n",
      "Epoch 70/100\n",
      "20/20 [==============================] - 0s 4ms/step - loss: 0.4205 - accuracy: 0.8046 - val_loss: 0.5102 - val_accuracy: 0.7727\n",
      "Epoch 71/100\n",
      "20/20 [==============================] - 0s 4ms/step - loss: 0.4200 - accuracy: 0.8094 - val_loss: 0.5102 - val_accuracy: 0.7727\n",
      "Epoch 72/100\n",
      "20/20 [==============================] - 0s 4ms/step - loss: 0.4194 - accuracy: 0.8127 - val_loss: 0.5132 - val_accuracy: 0.7662\n",
      "Epoch 73/100\n",
      "20/20 [==============================] - 0s 4ms/step - loss: 0.4187 - accuracy: 0.8143 - val_loss: 0.5122 - val_accuracy: 0.7662\n",
      "Epoch 74/100\n",
      "20/20 [==============================] - 0s 4ms/step - loss: 0.4191 - accuracy: 0.8111 - val_loss: 0.5106 - val_accuracy: 0.7727\n",
      "Epoch 75/100\n",
      "20/20 [==============================] - 0s 4ms/step - loss: 0.4184 - accuracy: 0.8078 - val_loss: 0.5110 - val_accuracy: 0.7727\n",
      "Epoch 76/100\n",
      "20/20 [==============================] - 0s 5ms/step - loss: 0.4182 - accuracy: 0.8062 - val_loss: 0.5101 - val_accuracy: 0.7727\n",
      "Epoch 77/100\n",
      "20/20 [==============================] - 0s 5ms/step - loss: 0.4182 - accuracy: 0.8078 - val_loss: 0.5123 - val_accuracy: 0.7727\n",
      "Epoch 78/100\n",
      "20/20 [==============================] - 0s 4ms/step - loss: 0.4172 - accuracy: 0.8094 - val_loss: 0.5131 - val_accuracy: 0.7727\n",
      "Epoch 79/100\n",
      "20/20 [==============================] - 0s 4ms/step - loss: 0.4171 - accuracy: 0.8143 - val_loss: 0.5112 - val_accuracy: 0.7727\n",
      "Epoch 80/100\n",
      "20/20 [==============================] - 0s 4ms/step - loss: 0.4167 - accuracy: 0.8143 - val_loss: 0.5123 - val_accuracy: 0.7662\n",
      "Epoch 81/100\n",
      "20/20 [==============================] - 0s 4ms/step - loss: 0.4160 - accuracy: 0.8160 - val_loss: 0.5120 - val_accuracy: 0.7727\n",
      "Epoch 82/100\n",
      "20/20 [==============================] - 0s 6ms/step - loss: 0.4160 - accuracy: 0.8143 - val_loss: 0.5110 - val_accuracy: 0.7727\n",
      "Epoch 83/100\n",
      "20/20 [==============================] - 0s 6ms/step - loss: 0.4153 - accuracy: 0.8127 - val_loss: 0.5134 - val_accuracy: 0.7727\n",
      "Epoch 84/100\n",
      "20/20 [==============================] - 0s 6ms/step - loss: 0.4155 - accuracy: 0.8143 - val_loss: 0.5140 - val_accuracy: 0.7662\n",
      "Epoch 85/100\n",
      "20/20 [==============================] - 0s 4ms/step - loss: 0.4146 - accuracy: 0.8160 - val_loss: 0.5145 - val_accuracy: 0.7792\n",
      "Epoch 86/100\n",
      "20/20 [==============================] - 0s 4ms/step - loss: 0.4145 - accuracy: 0.8143 - val_loss: 0.5153 - val_accuracy: 0.7792\n",
      "Epoch 87/100\n",
      "20/20 [==============================] - 0s 4ms/step - loss: 0.4138 - accuracy: 0.8160 - val_loss: 0.5106 - val_accuracy: 0.7792\n",
      "Epoch 88/100\n",
      "20/20 [==============================] - 0s 4ms/step - loss: 0.4139 - accuracy: 0.8160 - val_loss: 0.5116 - val_accuracy: 0.7792\n",
      "Epoch 89/100\n",
      "20/20 [==============================] - 0s 5ms/step - loss: 0.4136 - accuracy: 0.8160 - val_loss: 0.5105 - val_accuracy: 0.7792\n",
      "Epoch 90/100\n",
      "20/20 [==============================] - 0s 6ms/step - loss: 0.4128 - accuracy: 0.8176 - val_loss: 0.5112 - val_accuracy: 0.7792\n",
      "Epoch 91/100\n",
      "20/20 [==============================] - 0s 6ms/step - loss: 0.4132 - accuracy: 0.8127 - val_loss: 0.5087 - val_accuracy: 0.7727\n",
      "Epoch 92/100\n",
      "20/20 [==============================] - 0s 5ms/step - loss: 0.4128 - accuracy: 0.8160 - val_loss: 0.5083 - val_accuracy: 0.7727\n",
      "Epoch 93/100\n",
      "20/20 [==============================] - 0s 5ms/step - loss: 0.4125 - accuracy: 0.8160 - val_loss: 0.5094 - val_accuracy: 0.7727\n",
      "Epoch 94/100\n",
      "20/20 [==============================] - 0s 4ms/step - loss: 0.4118 - accuracy: 0.8160 - val_loss: 0.5083 - val_accuracy: 0.7662\n",
      "Epoch 95/100\n",
      "20/20 [==============================] - 0s 5ms/step - loss: 0.4117 - accuracy: 0.8176 - val_loss: 0.5117 - val_accuracy: 0.7662\n",
      "Epoch 96/100\n",
      "20/20 [==============================] - 0s 5ms/step - loss: 0.4117 - accuracy: 0.8143 - val_loss: 0.5127 - val_accuracy: 0.7597\n",
      "Epoch 97/100\n",
      "20/20 [==============================] - 0s 5ms/step - loss: 0.4114 - accuracy: 0.8143 - val_loss: 0.5119 - val_accuracy: 0.7662\n",
      "Epoch 98/100\n",
      "20/20 [==============================] - 0s 4ms/step - loss: 0.4115 - accuracy: 0.8160 - val_loss: 0.5097 - val_accuracy: 0.7597\n",
      "Epoch 99/100\n",
      "20/20 [==============================] - 0s 4ms/step - loss: 0.4101 - accuracy: 0.8176 - val_loss: 0.5093 - val_accuracy: 0.7662\n",
      "Epoch 100/100\n",
      "20/20 [==============================] - 0s 5ms/step - loss: 0.4100 - accuracy: 0.8143 - val_loss: 0.5091 - val_accuracy: 0.7662\n"
     ]
    },
    {
     "data": {
      "text/plain": [
       "<keras.src.callbacks.History at 0x16e4ce60bb0>"
      ]
     },
     "execution_count": 24,
     "metadata": {},
     "output_type": "execute_result"
    }
   ],
   "source": [
    "# initial_epoch= pahle 5 epochs run kar chuke h to agar hum chahte h ki ab epochs \n",
    "#               uske age se start ho to uske age ka number deo\n",
    "\n",
    "model.fit(x_train,y_train,batch_size=32,epochs=100,initial_epoch=6,validation_data=(x_test,y_test))"
   ]
  },
  {
   "cell_type": "code",
   "execution_count": null,
   "id": "b37a27fe",
   "metadata": {},
   "outputs": [],
   "source": []
  },
  {
   "cell_type": "code",
   "execution_count": null,
   "id": "1d3ab5a3",
   "metadata": {},
   "outputs": [],
   "source": []
  },
  {
   "cell_type": "code",
   "execution_count": 54,
   "id": "b7dc20d5",
   "metadata": {},
   "outputs": [],
   "source": [
    "# ab hum dekhege ki no of nurons kitne rakhe best result ke lie "
   ]
  },
  {
   "cell_type": "code",
   "execution_count": 25,
   "id": "08acd21a",
   "metadata": {},
   "outputs": [],
   "source": [
    "def sonu_model(hp):\n",
    "    model= Sequential()\n",
    "    units =hp.Int('sonu_units',min_value=8,max_value=128,step=8)\n",
    "#                              start=8,end=128,stepSize=8\n",
    "    \n",
    "    model.add(Dense(units=units,activation='relu',input_dim=8))\n",
    "    model.add(Dense(1,activation='sigmoid'))\n",
    "    \n",
    "    model.compile(optimizer='rmsprop',loss='binary_crossentropy',metrics=['accuracy'])\n",
    "    return model\n"
   ]
  },
  {
   "cell_type": "code",
   "execution_count": 26,
   "id": "d04d5de0",
   "metadata": {},
   "outputs": [
    {
     "name": "stdout",
     "output_type": "stream",
     "text": [
      "Reloading Tuner from my_dir\\vjeet_keras_tuner_file\\tuner0.json\n"
     ]
    }
   ],
   "source": [
    "tuner = kt.RandomSearch(sonu_model,\n",
    "                        objective = 'val_accuracy',\n",
    "                        max_trials=5,\n",
    "                        directory='my_dir',\n",
    "                       project_name='vjeet_keras_tuner_file')"
   ]
  },
  {
   "cell_type": "code",
   "execution_count": 27,
   "id": "7eabb0bf",
   "metadata": {},
   "outputs": [],
   "source": [
    "\n",
    "tuner.search(x_train,y_train,epochs=5,validation_data=(x_test,y_test))"
   ]
  },
  {
   "cell_type": "code",
   "execution_count": 28,
   "id": "c70cf259",
   "metadata": {},
   "outputs": [
    {
     "data": {
      "text/plain": [
       "{'sonu_units': 96}"
      ]
     },
     "execution_count": 28,
     "metadata": {},
     "output_type": "execute_result"
    }
   ],
   "source": [
    "tuner.get_best_hyperparameters()[0].values"
   ]
  },
  {
   "cell_type": "code",
   "execution_count": 29,
   "id": "d024c2a5",
   "metadata": {},
   "outputs": [],
   "source": [
    "model=tuner.get_best_models(num_models=1)[0]"
   ]
  },
  {
   "cell_type": "code",
   "execution_count": 30,
   "id": "8d2845bc",
   "metadata": {},
   "outputs": [
    {
     "name": "stdout",
     "output_type": "stream",
     "text": [
      "Model: \"sequential\"\n",
      "_________________________________________________________________\n",
      " Layer (type)                Output Shape              Param #   \n",
      "=================================================================\n",
      " dense (Dense)               (None, 96)                864       \n",
      "                                                                 \n",
      " dense_1 (Dense)             (None, 1)                 97        \n",
      "                                                                 \n",
      "=================================================================\n",
      "Total params: 961 (3.75 KB)\n",
      "Trainable params: 961 (3.75 KB)\n",
      "Non-trainable params: 0 (0.00 Byte)\n",
      "_________________________________________________________________\n"
     ]
    }
   ],
   "source": [
    "model.summary()"
   ]
  },
  {
   "cell_type": "code",
   "execution_count": 32,
   "id": "b7e11eb2",
   "metadata": {},
   "outputs": [
    {
     "name": "stdout",
     "output_type": "stream",
     "text": [
      "Epoch 7/100\n",
      "205/205 [==============================] - 1s 2ms/step - loss: 0.4644 - accuracy: 0.7752\n",
      "Epoch 8/100\n",
      "205/205 [==============================] - 0s 2ms/step - loss: 0.4520 - accuracy: 0.7834\n",
      "Epoch 9/100\n",
      "205/205 [==============================] - 0s 2ms/step - loss: 0.4483 - accuracy: 0.7932\n",
      "Epoch 10/100\n",
      "205/205 [==============================] - 0s 2ms/step - loss: 0.4460 - accuracy: 0.7899\n",
      "Epoch 11/100\n",
      "205/205 [==============================] - 0s 2ms/step - loss: 0.4419 - accuracy: 0.7980\n",
      "Epoch 12/100\n",
      "205/205 [==============================] - 1s 3ms/step - loss: 0.4415 - accuracy: 0.7899\n",
      "Epoch 13/100\n",
      "205/205 [==============================] - 0s 2ms/step - loss: 0.4371 - accuracy: 0.7883\n",
      "Epoch 14/100\n",
      "205/205 [==============================] - 0s 2ms/step - loss: 0.4359 - accuracy: 0.7883\n",
      "Epoch 15/100\n",
      "205/205 [==============================] - 0s 2ms/step - loss: 0.4318 - accuracy: 0.7980\n",
      "Epoch 16/100\n",
      "205/205 [==============================] - 0s 2ms/step - loss: 0.4313 - accuracy: 0.7948\n",
      "Epoch 17/100\n",
      "205/205 [==============================] - 0s 2ms/step - loss: 0.4301 - accuracy: 0.7948\n",
      "Epoch 18/100\n",
      "205/205 [==============================] - 1s 4ms/step - loss: 0.4261 - accuracy: 0.8046\n",
      "Epoch 19/100\n",
      "205/205 [==============================] - 1s 3ms/step - loss: 0.4226 - accuracy: 0.8046\n",
      "Epoch 20/100\n",
      "205/205 [==============================] - 1s 4ms/step - loss: 0.4228 - accuracy: 0.8062\n",
      "Epoch 21/100\n",
      "205/205 [==============================] - 0s 2ms/step - loss: 0.4216 - accuracy: 0.8111\n",
      "Epoch 22/100\n",
      "205/205 [==============================] - 1s 3ms/step - loss: 0.4187 - accuracy: 0.8062\n",
      "Epoch 23/100\n",
      "205/205 [==============================] - 1s 3ms/step - loss: 0.4192 - accuracy: 0.8111\n",
      "Epoch 24/100\n",
      "205/205 [==============================] - 1s 3ms/step - loss: 0.4154 - accuracy: 0.8062\n",
      "Epoch 25/100\n",
      "205/205 [==============================] - 0s 2ms/step - loss: 0.4170 - accuracy: 0.8062\n",
      "Epoch 26/100\n",
      "205/205 [==============================] - 1s 3ms/step - loss: 0.4146 - accuracy: 0.8111\n",
      "Epoch 27/100\n",
      "205/205 [==============================] - 1s 2ms/step - loss: 0.4111 - accuracy: 0.8094\n",
      "Epoch 28/100\n",
      "205/205 [==============================] - 1s 3ms/step - loss: 0.4113 - accuracy: 0.8176\n",
      "Epoch 29/100\n",
      "205/205 [==============================] - 1s 3ms/step - loss: 0.4101 - accuracy: 0.8176\n",
      "Epoch 30/100\n",
      "205/205 [==============================] - 0s 2ms/step - loss: 0.4086 - accuracy: 0.8176\n",
      "Epoch 31/100\n",
      "205/205 [==============================] - 1s 3ms/step - loss: 0.4083 - accuracy: 0.8160\n",
      "Epoch 32/100\n",
      "205/205 [==============================] - 0s 2ms/step - loss: 0.4054 - accuracy: 0.8192\n",
      "Epoch 33/100\n",
      "205/205 [==============================] - 1s 3ms/step - loss: 0.4069 - accuracy: 0.8176\n",
      "Epoch 34/100\n",
      "205/205 [==============================] - 0s 2ms/step - loss: 0.4040 - accuracy: 0.8241\n",
      "Epoch 35/100\n",
      "205/205 [==============================] - 0s 2ms/step - loss: 0.4042 - accuracy: 0.8176\n",
      "Epoch 36/100\n",
      "205/205 [==============================] - 1s 2ms/step - loss: 0.4064 - accuracy: 0.8241\n",
      "Epoch 37/100\n",
      "205/205 [==============================] - 0s 2ms/step - loss: 0.4020 - accuracy: 0.8290\n",
      "Epoch 38/100\n",
      "205/205 [==============================] - 1s 3ms/step - loss: 0.3995 - accuracy: 0.8225\n",
      "Epoch 39/100\n",
      "205/205 [==============================] - 1s 3ms/step - loss: 0.4010 - accuracy: 0.8322\n",
      "Epoch 40/100\n",
      "205/205 [==============================] - 1s 3ms/step - loss: 0.3980 - accuracy: 0.8257\n",
      "Epoch 41/100\n",
      "205/205 [==============================] - 1s 3ms/step - loss: 0.3963 - accuracy: 0.8322\n",
      "Epoch 42/100\n",
      "205/205 [==============================] - 1s 3ms/step - loss: 0.3974 - accuracy: 0.8322\n",
      "Epoch 43/100\n",
      "205/205 [==============================] - 1s 4ms/step - loss: 0.3963 - accuracy: 0.8241\n",
      "Epoch 44/100\n",
      "205/205 [==============================] - 1s 3ms/step - loss: 0.3957 - accuracy: 0.8371\n",
      "Epoch 45/100\n",
      "205/205 [==============================] - 1s 3ms/step - loss: 0.3952 - accuracy: 0.8290\n",
      "Epoch 46/100\n",
      "205/205 [==============================] - 0s 2ms/step - loss: 0.3917 - accuracy: 0.8339\n",
      "Epoch 47/100\n",
      "205/205 [==============================] - 1s 2ms/step - loss: 0.3909 - accuracy: 0.8322\n",
      "Epoch 48/100\n",
      "205/205 [==============================] - 0s 2ms/step - loss: 0.3912 - accuracy: 0.8306\n",
      "Epoch 49/100\n",
      "205/205 [==============================] - 0s 2ms/step - loss: 0.3914 - accuracy: 0.8436\n",
      "Epoch 50/100\n",
      "205/205 [==============================] - 0s 2ms/step - loss: 0.3878 - accuracy: 0.8339\n",
      "Epoch 51/100\n",
      "205/205 [==============================] - 0s 2ms/step - loss: 0.3864 - accuracy: 0.8355\n",
      "Epoch 52/100\n",
      "205/205 [==============================] - 0s 2ms/step - loss: 0.3854 - accuracy: 0.8241\n",
      "Epoch 53/100\n",
      "205/205 [==============================] - 0s 2ms/step - loss: 0.3836 - accuracy: 0.8371\n",
      "Epoch 54/100\n",
      "205/205 [==============================] - 0s 2ms/step - loss: 0.3853 - accuracy: 0.8339\n",
      "Epoch 55/100\n",
      "205/205 [==============================] - 0s 2ms/step - loss: 0.3781 - accuracy: 0.8355\n",
      "Epoch 56/100\n",
      "205/205 [==============================] - 0s 2ms/step - loss: 0.3839 - accuracy: 0.8388\n",
      "Epoch 57/100\n",
      "205/205 [==============================] - 0s 2ms/step - loss: 0.3782 - accuracy: 0.8355\n",
      "Epoch 58/100\n",
      "205/205 [==============================] - 0s 2ms/step - loss: 0.3821 - accuracy: 0.8436\n",
      "Epoch 59/100\n",
      "205/205 [==============================] - 0s 2ms/step - loss: 0.3763 - accuracy: 0.8453\n",
      "Epoch 60/100\n",
      "205/205 [==============================] - 0s 2ms/step - loss: 0.3748 - accuracy: 0.8404\n",
      "Epoch 61/100\n",
      "205/205 [==============================] - 0s 2ms/step - loss: 0.3773 - accuracy: 0.8453\n",
      "Epoch 62/100\n",
      "205/205 [==============================] - 0s 2ms/step - loss: 0.3753 - accuracy: 0.8469\n",
      "Epoch 63/100\n",
      "205/205 [==============================] - 0s 2ms/step - loss: 0.3735 - accuracy: 0.8453\n",
      "Epoch 64/100\n",
      "205/205 [==============================] - 1s 3ms/step - loss: 0.3699 - accuracy: 0.8420\n",
      "Epoch 65/100\n",
      "205/205 [==============================] - 0s 2ms/step - loss: 0.3738 - accuracy: 0.8453\n",
      "Epoch 66/100\n",
      "205/205 [==============================] - 1s 3ms/step - loss: 0.3676 - accuracy: 0.8485\n",
      "Epoch 67/100\n",
      "205/205 [==============================] - 0s 2ms/step - loss: 0.3678 - accuracy: 0.8485\n",
      "Epoch 68/100\n",
      "205/205 [==============================] - 0s 2ms/step - loss: 0.3653 - accuracy: 0.8534\n",
      "Epoch 69/100\n",
      "205/205 [==============================] - 0s 2ms/step - loss: 0.3650 - accuracy: 0.8469\n",
      "Epoch 70/100\n",
      "205/205 [==============================] - 0s 2ms/step - loss: 0.3630 - accuracy: 0.8534\n",
      "Epoch 71/100\n",
      "205/205 [==============================] - 0s 2ms/step - loss: 0.3648 - accuracy: 0.8518\n",
      "Epoch 72/100\n",
      "205/205 [==============================] - 0s 2ms/step - loss: 0.3593 - accuracy: 0.8550\n",
      "Epoch 73/100\n",
      "205/205 [==============================] - 0s 2ms/step - loss: 0.3599 - accuracy: 0.8550\n",
      "Epoch 74/100\n",
      "205/205 [==============================] - 0s 2ms/step - loss: 0.3580 - accuracy: 0.8518\n",
      "Epoch 75/100\n",
      "205/205 [==============================] - 0s 2ms/step - loss: 0.3562 - accuracy: 0.8534\n",
      "Epoch 76/100\n",
      "205/205 [==============================] - 0s 2ms/step - loss: 0.3569 - accuracy: 0.8502\n",
      "Epoch 77/100\n",
      "205/205 [==============================] - 0s 2ms/step - loss: 0.3512 - accuracy: 0.8518\n",
      "Epoch 78/100\n",
      "205/205 [==============================] - 0s 2ms/step - loss: 0.3562 - accuracy: 0.8534\n",
      "Epoch 79/100\n",
      "205/205 [==============================] - 0s 2ms/step - loss: 0.3516 - accuracy: 0.8599\n",
      "Epoch 80/100\n",
      "205/205 [==============================] - 1s 2ms/step - loss: 0.3507 - accuracy: 0.8599\n",
      "Epoch 81/100\n",
      "205/205 [==============================] - 0s 2ms/step - loss: 0.3480 - accuracy: 0.8534\n",
      "Epoch 82/100\n",
      "205/205 [==============================] - 0s 2ms/step - loss: 0.3476 - accuracy: 0.8648\n",
      "Epoch 83/100\n",
      "205/205 [==============================] - 0s 2ms/step - loss: 0.3454 - accuracy: 0.8583\n",
      "Epoch 84/100\n",
      "205/205 [==============================] - 0s 2ms/step - loss: 0.3435 - accuracy: 0.8599\n",
      "Epoch 85/100\n",
      "205/205 [==============================] - 0s 2ms/step - loss: 0.3432 - accuracy: 0.8616\n",
      "Epoch 86/100\n",
      "205/205 [==============================] - 0s 2ms/step - loss: 0.3422 - accuracy: 0.8664\n",
      "Epoch 87/100\n"
     ]
    },
    {
     "name": "stdout",
     "output_type": "stream",
     "text": [
      "205/205 [==============================] - 0s 2ms/step - loss: 0.3394 - accuracy: 0.8599\n",
      "Epoch 88/100\n",
      "205/205 [==============================] - 0s 2ms/step - loss: 0.3380 - accuracy: 0.8567\n",
      "Epoch 89/100\n",
      "205/205 [==============================] - 0s 2ms/step - loss: 0.3392 - accuracy: 0.8583\n",
      "Epoch 90/100\n",
      "205/205 [==============================] - 0s 2ms/step - loss: 0.3370 - accuracy: 0.8697\n",
      "Epoch 91/100\n",
      "205/205 [==============================] - 0s 2ms/step - loss: 0.3349 - accuracy: 0.8664\n",
      "Epoch 92/100\n",
      "205/205 [==============================] - 0s 2ms/step - loss: 0.3365 - accuracy: 0.8632\n",
      "Epoch 93/100\n",
      "205/205 [==============================] - 0s 2ms/step - loss: 0.3333 - accuracy: 0.8550\n",
      "Epoch 94/100\n",
      "205/205 [==============================] - 0s 2ms/step - loss: 0.3299 - accuracy: 0.8664\n",
      "Epoch 95/100\n",
      "205/205 [==============================] - 0s 2ms/step - loss: 0.3283 - accuracy: 0.8599\n",
      "Epoch 96/100\n",
      "205/205 [==============================] - 0s 2ms/step - loss: 0.3295 - accuracy: 0.8616\n",
      "Epoch 97/100\n",
      "205/205 [==============================] - 0s 2ms/step - loss: 0.3287 - accuracy: 0.8713\n",
      "Epoch 98/100\n",
      "205/205 [==============================] - 0s 2ms/step - loss: 0.3260 - accuracy: 0.8648\n",
      "Epoch 99/100\n",
      "205/205 [==============================] - 0s 2ms/step - loss: 0.3281 - accuracy: 0.8599\n",
      "Epoch 100/100\n",
      "205/205 [==============================] - 0s 2ms/step - loss: 0.3279 - accuracy: 0.8713\n"
     ]
    },
    {
     "data": {
      "text/plain": [
       "<keras.src.callbacks.History at 0x16e57d9eaa0>"
      ]
     },
     "execution_count": 32,
     "metadata": {},
     "output_type": "execute_result"
    }
   ],
   "source": [
    "model.fit(x_train,y_train,batch_size=3,epochs=100,initial_epoch=6)"
   ]
  },
  {
   "cell_type": "code",
   "execution_count": null,
   "id": "0e264de9",
   "metadata": {},
   "outputs": [],
   "source": []
  }
 ],
 "metadata": {
  "kernelspec": {
   "display_name": "Python 3 (ipykernel)",
   "language": "python",
   "name": "python3"
  },
  "language_info": {
   "codemirror_mode": {
    "name": "ipython",
    "version": 3
   },
   "file_extension": ".py",
   "mimetype": "text/x-python",
   "name": "python",
   "nbconvert_exporter": "python",
   "pygments_lexer": "ipython3",
   "version": "3.10.9"
  }
 },
 "nbformat": 4,
 "nbformat_minor": 5
}
