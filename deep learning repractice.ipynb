{
 "cells": [
  {
   "cell_type": "code",
   "execution_count": 4,
   "id": "661dd94a",
   "metadata": {},
   "outputs": [],
   "source": [
    "import numpy as np\n",
    "import pandas as pd\n",
    "import tensorflow as tf\n",
    "from sklearn.model_selection import train_test_split\n",
    "from sklearn.preprocessing import LabelEncoder, StandardScaler"
   ]
  },
  {
   "cell_type": "code",
   "execution_count": 6,
   "id": "95c73664",
   "metadata": {},
   "outputs": [],
   "source": [
    "df=pd.read_csv(\"C:\\\\Users\\Jarvis\\\\Downloads\\\\click.csv\")"
   ]
  },
  {
   "cell_type": "code",
   "execution_count": 23,
   "id": "b46d7e4e",
   "metadata": {
    "scrolled": true
   },
   "outputs": [
    {
     "data": {
      "text/html": [
       "<div>\n",
       "<style scoped>\n",
       "    .dataframe tbody tr th:only-of-type {\n",
       "        vertical-align: middle;\n",
       "    }\n",
       "\n",
       "    .dataframe tbody tr th {\n",
       "        vertical-align: top;\n",
       "    }\n",
       "\n",
       "    .dataframe thead th {\n",
       "        text-align: right;\n",
       "    }\n",
       "</style>\n",
       "<table border=\"1\" class=\"dataframe\">\n",
       "  <thead>\n",
       "    <tr style=\"text-align: right;\">\n",
       "      <th></th>\n",
       "      <th>Daily Time Spent on Site</th>\n",
       "      <th>Age</th>\n",
       "      <th>Area Income</th>\n",
       "      <th>Daily Internet Usage</th>\n",
       "      <th>Ad Topic Line</th>\n",
       "      <th>City</th>\n",
       "      <th>Gender</th>\n",
       "      <th>Country</th>\n",
       "      <th>Clicked on Ad</th>\n",
       "    </tr>\n",
       "  </thead>\n",
       "  <tbody>\n",
       "    <tr>\n",
       "      <th>0</th>\n",
       "      <td>62.26</td>\n",
       "      <td>32.0</td>\n",
       "      <td>69481.85</td>\n",
       "      <td>172.83</td>\n",
       "      <td>Decentralized real-time circuit</td>\n",
       "      <td>Lisafort</td>\n",
       "      <td>Male</td>\n",
       "      <td>Svalbard &amp; Jan Mayen Islands</td>\n",
       "      <td>0</td>\n",
       "    </tr>\n",
       "    <tr>\n",
       "      <th>1</th>\n",
       "      <td>41.73</td>\n",
       "      <td>31.0</td>\n",
       "      <td>61840.26</td>\n",
       "      <td>207.17</td>\n",
       "      <td>Optional full-range projection</td>\n",
       "      <td>West Angelabury</td>\n",
       "      <td>Male</td>\n",
       "      <td>Singapore</td>\n",
       "      <td>0</td>\n",
       "    </tr>\n",
       "    <tr>\n",
       "      <th>2</th>\n",
       "      <td>44.40</td>\n",
       "      <td>30.0</td>\n",
       "      <td>57877.15</td>\n",
       "      <td>172.83</td>\n",
       "      <td>Total 5thgeneration standardization</td>\n",
       "      <td>Reyesfurt</td>\n",
       "      <td>Female</td>\n",
       "      <td>Guadeloupe</td>\n",
       "      <td>0</td>\n",
       "    </tr>\n",
       "    <tr>\n",
       "      <th>3</th>\n",
       "      <td>59.88</td>\n",
       "      <td>28.0</td>\n",
       "      <td>56180.93</td>\n",
       "      <td>207.17</td>\n",
       "      <td>Balanced empowering success</td>\n",
       "      <td>New Michael</td>\n",
       "      <td>Female</td>\n",
       "      <td>Zambia</td>\n",
       "      <td>0</td>\n",
       "    </tr>\n",
       "    <tr>\n",
       "      <th>4</th>\n",
       "      <td>49.21</td>\n",
       "      <td>30.0</td>\n",
       "      <td>54324.73</td>\n",
       "      <td>201.58</td>\n",
       "      <td>Total 5thgeneration standardization</td>\n",
       "      <td>West Richard</td>\n",
       "      <td>Female</td>\n",
       "      <td>Qatar</td>\n",
       "      <td>1</td>\n",
       "    </tr>\n",
       "    <tr>\n",
       "      <th>...</th>\n",
       "      <td>...</td>\n",
       "      <td>...</td>\n",
       "      <td>...</td>\n",
       "      <td>...</td>\n",
       "      <td>...</td>\n",
       "      <td>...</td>\n",
       "      <td>...</td>\n",
       "      <td>...</td>\n",
       "      <td>...</td>\n",
       "    </tr>\n",
       "    <tr>\n",
       "      <th>9995</th>\n",
       "      <td>41.73</td>\n",
       "      <td>31.0</td>\n",
       "      <td>61840.26</td>\n",
       "      <td>207.17</td>\n",
       "      <td>Profound executive flexibility</td>\n",
       "      <td>West Angelabury</td>\n",
       "      <td>Male</td>\n",
       "      <td>Singapore</td>\n",
       "      <td>1</td>\n",
       "    </tr>\n",
       "    <tr>\n",
       "      <th>9996</th>\n",
       "      <td>41.73</td>\n",
       "      <td>28.0</td>\n",
       "      <td>51501.38</td>\n",
       "      <td>120.49</td>\n",
       "      <td>Managed zero tolerance concept</td>\n",
       "      <td>Kennedyfurt</td>\n",
       "      <td>Male</td>\n",
       "      <td>Luxembourg</td>\n",
       "      <td>0</td>\n",
       "    </tr>\n",
       "    <tr>\n",
       "      <th>9997</th>\n",
       "      <td>55.60</td>\n",
       "      <td>39.0</td>\n",
       "      <td>38067.08</td>\n",
       "      <td>124.44</td>\n",
       "      <td>Intuitive exuding service-desk</td>\n",
       "      <td>North Randy</td>\n",
       "      <td>Female</td>\n",
       "      <td>Egypt</td>\n",
       "      <td>0</td>\n",
       "    </tr>\n",
       "    <tr>\n",
       "      <th>9998</th>\n",
       "      <td>46.61</td>\n",
       "      <td>50.0</td>\n",
       "      <td>43974.49</td>\n",
       "      <td>123.13</td>\n",
       "      <td>Realigned content-based leverage</td>\n",
       "      <td>North Samantha</td>\n",
       "      <td>Female</td>\n",
       "      <td>Malawi</td>\n",
       "      <td>1</td>\n",
       "    </tr>\n",
       "    <tr>\n",
       "      <th>9999</th>\n",
       "      <td>46.61</td>\n",
       "      <td>43.0</td>\n",
       "      <td>60575.99</td>\n",
       "      <td>198.45</td>\n",
       "      <td>Optimized upward-trending productivity</td>\n",
       "      <td>Port Jeffrey</td>\n",
       "      <td>Male</td>\n",
       "      <td>Northern Mariana Islands</td>\n",
       "      <td>1</td>\n",
       "    </tr>\n",
       "  </tbody>\n",
       "</table>\n",
       "<p>10000 rows × 9 columns</p>\n",
       "</div>"
      ],
      "text/plain": [
       "      Daily Time Spent on Site   Age  Area Income  Daily Internet Usage  \\\n",
       "0                        62.26  32.0     69481.85                172.83   \n",
       "1                        41.73  31.0     61840.26                207.17   \n",
       "2                        44.40  30.0     57877.15                172.83   \n",
       "3                        59.88  28.0     56180.93                207.17   \n",
       "4                        49.21  30.0     54324.73                201.58   \n",
       "...                        ...   ...          ...                   ...   \n",
       "9995                     41.73  31.0     61840.26                207.17   \n",
       "9996                     41.73  28.0     51501.38                120.49   \n",
       "9997                     55.60  39.0     38067.08                124.44   \n",
       "9998                     46.61  50.0     43974.49                123.13   \n",
       "9999                     46.61  43.0     60575.99                198.45   \n",
       "\n",
       "                               Ad Topic Line             City  Gender  \\\n",
       "0            Decentralized real-time circuit         Lisafort    Male   \n",
       "1             Optional full-range projection  West Angelabury    Male   \n",
       "2        Total 5thgeneration standardization        Reyesfurt  Female   \n",
       "3                Balanced empowering success      New Michael  Female   \n",
       "4        Total 5thgeneration standardization     West Richard  Female   \n",
       "...                                      ...              ...     ...   \n",
       "9995          Profound executive flexibility  West Angelabury    Male   \n",
       "9996          Managed zero tolerance concept      Kennedyfurt    Male   \n",
       "9997          Intuitive exuding service-desk      North Randy  Female   \n",
       "9998        Realigned content-based leverage   North Samantha  Female   \n",
       "9999  Optimized upward-trending productivity     Port Jeffrey    Male   \n",
       "\n",
       "                           Country  Clicked on Ad  \n",
       "0     Svalbard & Jan Mayen Islands              0  \n",
       "1                        Singapore              0  \n",
       "2                       Guadeloupe              0  \n",
       "3                           Zambia              0  \n",
       "4                            Qatar              1  \n",
       "...                            ...            ...  \n",
       "9995                     Singapore              1  \n",
       "9996                    Luxembourg              0  \n",
       "9997                         Egypt              0  \n",
       "9998                        Malawi              1  \n",
       "9999      Northern Mariana Islands              1  \n",
       "\n",
       "[10000 rows x 9 columns]"
      ]
     },
     "execution_count": 23,
     "metadata": {},
     "output_type": "execute_result"
    }
   ],
   "source": [
    "df=df.drop(columns='Timestamp')\n",
    "df"
   ]
  },
  {
   "cell_type": "code",
   "execution_count": 25,
   "id": "46bd205c",
   "metadata": {},
   "outputs": [],
   "source": [
    "x=df.iloc[:, 0:-1].values\n",
    "y=df.iloc[:,-1].values"
   ]
  },
  {
   "cell_type": "code",
   "execution_count": 29,
   "id": "545c4acf",
   "metadata": {},
   "outputs": [
    {
     "data": {
      "text/plain": [
       "array([1, 1, 0, ..., 0, 0, 1], dtype=object)"
      ]
     },
     "execution_count": 29,
     "metadata": {},
     "output_type": "execute_result"
    }
   ],
   "source": [
    "x[:,6]"
   ]
  },
  {
   "cell_type": "code",
   "execution_count": 27,
   "id": "cba5faf8",
   "metadata": {},
   "outputs": [],
   "source": [
    "le=LabelEncoder()\n",
    "x[:,4]=le.fit_transform(x[:,4])\n",
    "x[:,5]=le.fit_transform(x[:,5])\n",
    "x[:,6]=le.fit_transform(x[:,6])\n",
    "x[:,7]=le.fit_transform(x[:,7])"
   ]
  },
  {
   "cell_type": "code",
   "execution_count": 32,
   "id": "0d0f1348",
   "metadata": {},
   "outputs": [],
   "source": [
    "x_train,x_test,y_train,y_test = train_test_split(x,y,test_size=0.2,random_state=34)"
   ]
  },
  {
   "cell_type": "code",
   "execution_count": 35,
   "id": "1d795139",
   "metadata": {},
   "outputs": [
    {
     "data": {
      "text/plain": [
       "((8000, 8), (2000, 8))"
      ]
     },
     "execution_count": 35,
     "metadata": {},
     "output_type": "execute_result"
    }
   ],
   "source": [
    "x_train.shape,x_test.shape"
   ]
  },
  {
   "cell_type": "code",
   "execution_count": 42,
   "id": "aa40d039",
   "metadata": {},
   "outputs": [],
   "source": [
    "sc=StandardScaler()\n",
    "x_train=sc.fit_transform(x_train)\n",
    "x_test=sc.transform(x_test)"
   ]
  },
  {
   "cell_type": "code",
   "execution_count": 49,
   "id": "15617335",
   "metadata": {},
   "outputs": [],
   "source": [
    "model=tf.keras.Sequential([\n",
    "    tf.keras.layers.Dense(64,activation='relu',input_dim=x_train.shape[1]),\n",
    "    tf.keras.layers.Dense(64,activation='relu'),\n",
    "    tf.keras.layers.Dense(1,activation='sigmoid')\n",
    "])"
   ]
  },
  {
   "cell_type": "code",
   "execution_count": 50,
   "id": "10f87bc1",
   "metadata": {},
   "outputs": [],
   "source": [
    "loss_fn = tf.keras.losses.BinaryCrossentropy()\n",
    "metrics=['accuracy']"
   ]
  },
  {
   "cell_type": "code",
   "execution_count": 52,
   "id": "6f8cb4f1",
   "metadata": {},
   "outputs": [],
   "source": [
    "learning_rate=0.001\n",
    "momentum=0.9\n",
    "optimizer=tf.keras.optimizers.SGD(learning_rate,momentum=momentum)"
   ]
  },
  {
   "cell_type": "code",
   "execution_count": 54,
   "id": "67db8ed6",
   "metadata": {},
   "outputs": [],
   "source": [
    "model.compile(optimizer= optimizer ,loss = loss_fn , metrics= metrics)"
   ]
  },
  {
   "cell_type": "code",
   "execution_count": 57,
   "id": "5836b963",
   "metadata": {},
   "outputs": [],
   "source": [
    "epochs=10 \n",
    "batch_size=32\n"
   ]
  },
  {
   "cell_type": "code",
   "execution_count": 58,
   "id": "308f6677",
   "metadata": {},
   "outputs": [
    {
     "name": "stdout",
     "output_type": "stream",
     "text": [
      "63/63 [==============================] - 3s 2ms/step - loss: 0.7201 - accuracy: 0.4295\n"
     ]
    }
   ],
   "source": [
    "test_loss,test_acc =model.evaluate(x_test,y_test)"
   ]
  },
  {
   "cell_type": "code",
   "execution_count": null,
   "id": "aec5e88a",
   "metadata": {},
   "outputs": [],
   "source": [
    "print(\"test loss :\",test_loss)\n",
    "print(\"test ac\")"
   ]
  }
 ],
 "metadata": {
  "kernelspec": {
   "display_name": "Python 3 (ipykernel)",
   "language": "python",
   "name": "python3"
  },
  "language_info": {
   "codemirror_mode": {
    "name": "ipython",
    "version": 3
   },
   "file_extension": ".py",
   "mimetype": "text/x-python",
   "name": "python",
   "nbconvert_exporter": "python",
   "pygments_lexer": "ipython3",
   "version": "3.10.9"
  }
 },
 "nbformat": 4,
 "nbformat_minor": 5
}
