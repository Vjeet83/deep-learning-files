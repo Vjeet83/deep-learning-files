{
 "cells": [
  {
   "cell_type": "markdown",
   "id": "94dae043",
   "metadata": {},
   "source": [
    "deep RNN \\ deep GRU \\deep LSTM"
   ]
  },
  {
   "cell_type": "code",
   "execution_count": 19,
   "id": "a1653a76",
   "metadata": {},
   "outputs": [],
   "source": [
    "import tensorflow as tf \n",
    "from tensorflow.keras.datasets import imdb\n",
    "from  tensorflow.keras.preprocessing.sequence import pad_sequences\n",
    "from tensorflow.keras.models import Sequential \n",
    "from tensorflow.keras.layers import Embedding,SimpleRNN ,Dense ,LSTM,GRU\n"
   ]
  },
  {
   "cell_type": "code",
   "execution_count": 12,
   "id": "f005da4b",
   "metadata": {},
   "outputs": [],
   "source": [
    "# Load the IMDB dataset \n",
    "(x_train,y_train), (x_test,y_test) = imdb.load_data(num_words =10000)\n",
    "# pad sequences to have the same length \n",
    "x_train = pad_sequences(x_train,maxlen =100)\n",
    "x_test = pad_sequences(x_train,maxlen=100)"
   ]
  },
  {
   "cell_type": "code",
   "execution_count": 6,
   "id": "e3132df1",
   "metadata": {},
   "outputs": [
    {
     "name": "stdout",
     "output_type": "stream",
     "text": [
      "Model: \"sequential\"\n",
      "_________________________________________________________________\n",
      " Layer (type)                Output Shape              Param #   \n",
      "=================================================================\n",
      " embedding (Embedding)       (None, 100, 32)           320000    \n",
      "                                                                 \n",
      " simple_rnn (SimpleRNN)      (None, 100, 5)            190       \n",
      "                                                                 \n",
      " simple_rnn_1 (SimpleRNN)    (None, 5)                 55        \n",
      "                                                                 \n",
      " dense (Dense)               (None, 1)                 6         \n",
      "                                                                 \n",
      "=================================================================\n",
      "Total params: 320251 (1.22 MB)\n",
      "Trainable params: 320251 (1.22 MB)\n",
      "Non-trainable params: 0 (0.00 Byte)\n",
      "_________________________________________________________________\n"
     ]
    }
   ],
   "source": [
    "# define the RNN model\n",
    "model =Sequential([\n",
    "    Embedding(10000,32,input_length=100),  #Embedding layer to convert words to vectors\n",
    "    SimpleRNN(5,return_sequences=True) ,   # RNN layer with 5 units \n",
    "    SimpleRNN(5),                          # Another RNN layer with 5 units\n",
    "    Dense(1,activation='sigmoid')\n",
    "])\n",
    "\n",
    "model.summary()"
   ]
  },
  {
   "cell_type": "code",
   "execution_count": 7,
   "id": "c205e83e",
   "metadata": {},
   "outputs": [],
   "source": [
    "### return sequences =True\\False \n",
    "# return sequences =True rakhane pr hi vo vali layer agli layer ko input degi \n",
    "# varna ye connaction break ho jayega  or error ayegi \n",
    "# last vali layer kisi ko output nahi detii islie last me \n",
    "# return sequences  false hi rahane de "
   ]
  },
  {
   "cell_type": "code",
   "execution_count": 8,
   "id": "83cf76f6",
   "metadata": {},
   "outputs": [],
   "source": [
    "model.compile(optimizer ='adam' ,loss='binary_crossentropy',metrics=['accuracy'])"
   ]
  },
  {
   "cell_type": "code",
   "execution_count": 9,
   "id": "7d8a26fc",
   "metadata": {},
   "outputs": [
    {
     "name": "stdout",
     "output_type": "stream",
     "text": [
      "Epoch 1/5\n",
      "625/625 [==============================] - 34s 45ms/step - loss: 0.6051 - accuracy: 0.6654 - val_loss: 0.5344 - val_accuracy: 0.7510\n",
      "Epoch 2/5\n",
      "625/625 [==============================] - 34s 54ms/step - loss: 0.4254 - accuracy: 0.8155 - val_loss: 0.4766 - val_accuracy: 0.7838\n",
      "Epoch 3/5\n",
      "625/625 [==============================] - 26s 41ms/step - loss: 0.3431 - accuracy: 0.8569 - val_loss: 0.4920 - val_accuracy: 0.7840\n",
      "Epoch 4/5\n",
      "625/625 [==============================] - 24s 38ms/step - loss: 0.2872 - accuracy: 0.8865 - val_loss: 0.5612 - val_accuracy: 0.7500\n",
      "Epoch 5/5\n",
      "625/625 [==============================] - 25s 40ms/step - loss: 0.2154 - accuracy: 0.9221 - val_loss: 0.5526 - val_accuracy: 0.7686\n"
     ]
    }
   ],
   "source": [
    "history = model.fit(x_train ,y_train , epochs=5 , batch_size =32 ,validation_split=0.2)\n"
   ]
  },
  {
   "cell_type": "code",
   "execution_count": null,
   "id": "4c67929d",
   "metadata": {},
   "outputs": [],
   "source": []
  },
  {
   "cell_type": "code",
   "execution_count": null,
   "id": "adc1352b",
   "metadata": {},
   "outputs": [],
   "source": []
  },
  {
   "cell_type": "code",
   "execution_count": null,
   "id": "51f6e79d",
   "metadata": {},
   "outputs": [],
   "source": []
  },
  {
   "cell_type": "code",
   "execution_count": null,
   "id": "5b8d04ed",
   "metadata": {},
   "outputs": [],
   "source": []
  },
  {
   "cell_type": "code",
   "execution_count": 16,
   "id": "a6b3bac0",
   "metadata": {},
   "outputs": [],
   "source": [
    "# NOW  we will use deep LSTM \n"
   ]
  },
  {
   "cell_type": "code",
   "execution_count": 13,
   "id": "82b30284",
   "metadata": {},
   "outputs": [
    {
     "name": "stdout",
     "output_type": "stream",
     "text": [
      "Model: \"sequential_1\"\n",
      "_________________________________________________________________\n",
      " Layer (type)                Output Shape              Param #   \n",
      "=================================================================\n",
      " embedding_2 (Embedding)     (None, 100, 32)           320000    \n",
      "                                                                 \n",
      " lstm (LSTM)                 (None, 100, 5)            760       \n",
      "                                                                 \n",
      " lstm_1 (LSTM)               (None, 5)                 220       \n",
      "                                                                 \n",
      " dense_1 (Dense)             (None, 1)                 6         \n",
      "                                                                 \n",
      "=================================================================\n",
      "Total params: 320986 (1.22 MB)\n",
      "Trainable params: 320986 (1.22 MB)\n",
      "Non-trainable params: 0 (0.00 Byte)\n",
      "_________________________________________________________________\n"
     ]
    }
   ],
   "source": [
    "# define the RNN model\n",
    "model =Sequential([\n",
    "    Embedding(10000,32,input_length=100),  #Embedding layer to convert words to vectors\n",
    "    LSTM(5,return_sequences=True) ,   # LSTM layer with 5 units \n",
    "    LSTM(5),                          # Another LSTM layer with 5 units\n",
    "    Dense(1,activation='sigmoid')\n",
    "])\n",
    "\n",
    "model.summary()"
   ]
  },
  {
   "cell_type": "code",
   "execution_count": 14,
   "id": "f7b374ff",
   "metadata": {},
   "outputs": [],
   "source": [
    "model.compile(optimizer ='adam' ,loss='binary_crossentropy',metrics=['accuracy'])"
   ]
  },
  {
   "cell_type": "code",
   "execution_count": 15,
   "id": "8e6ea1c9",
   "metadata": {},
   "outputs": [
    {
     "name": "stdout",
     "output_type": "stream",
     "text": [
      "Epoch 1/5\n",
      "625/625 [==============================] - 41s 57ms/step - loss: 0.5245 - accuracy: 0.7448 - val_loss: 0.4468 - val_accuracy: 0.7986\n",
      "Epoch 2/5\n",
      "625/625 [==============================] - 38s 60ms/step - loss: 0.3429 - accuracy: 0.8658 - val_loss: 0.3795 - val_accuracy: 0.8386\n",
      "Epoch 3/5\n",
      "625/625 [==============================] - 34s 55ms/step - loss: 0.2572 - accuracy: 0.9024 - val_loss: 0.4094 - val_accuracy: 0.8304\n",
      "Epoch 4/5\n",
      "625/625 [==============================] - 35s 56ms/step - loss: 0.2019 - accuracy: 0.9299 - val_loss: 0.4006 - val_accuracy: 0.8426\n",
      "Epoch 5/5\n",
      "625/625 [==============================] - 36s 57ms/step - loss: 0.1568 - accuracy: 0.9508 - val_loss: 0.4294 - val_accuracy: 0.8426\n"
     ]
    }
   ],
   "source": [
    "history = model.fit(x_train ,y_train , epochs=5 , batch_size =32 ,validation_split=0.2)\n"
   ]
  },
  {
   "cell_type": "code",
   "execution_count": null,
   "id": "f4e380b0",
   "metadata": {},
   "outputs": [],
   "source": []
  },
  {
   "cell_type": "code",
   "execution_count": null,
   "id": "dbdbabda",
   "metadata": {},
   "outputs": [],
   "source": []
  },
  {
   "cell_type": "code",
   "execution_count": null,
   "id": "d414c2b7",
   "metadata": {},
   "outputs": [],
   "source": []
  },
  {
   "cell_type": "code",
   "execution_count": 17,
   "id": "28df88da",
   "metadata": {},
   "outputs": [],
   "source": [
    "# AND last we will use deep GRU"
   ]
  },
  {
   "cell_type": "code",
   "execution_count": 20,
   "id": "2ab42c2d",
   "metadata": {},
   "outputs": [
    {
     "name": "stdout",
     "output_type": "stream",
     "text": [
      "Model: \"sequential_2\"\n",
      "_________________________________________________________________\n",
      " Layer (type)                Output Shape              Param #   \n",
      "=================================================================\n",
      " embedding_4 (Embedding)     (None, 100, 32)           320000    \n",
      "                                                                 \n",
      " gru (GRU)                   (None, 100, 5)            585       \n",
      "                                                                 \n",
      " gru_1 (GRU)                 (None, 5)                 180       \n",
      "                                                                 \n",
      " dense_2 (Dense)             (None, 1)                 6         \n",
      "                                                                 \n",
      "=================================================================\n",
      "Total params: 320771 (1.22 MB)\n",
      "Trainable params: 320771 (1.22 MB)\n",
      "Non-trainable params: 0 (0.00 Byte)\n",
      "_________________________________________________________________\n"
     ]
    }
   ],
   "source": [
    "# define the RNN model\n",
    "model =Sequential([\n",
    "    Embedding(10000,32,input_length=100),  #Embedding layer to convert words to vectors\n",
    "    GRU(5,return_sequences=True) ,   # GRU layer with 5 units \n",
    "    GRU(5),                          # Another GRU layer with 5 units\n",
    "    Dense(1,activation='sigmoid')\n",
    "])\n",
    "\n",
    "model.summary()"
   ]
  },
  {
   "cell_type": "code",
   "execution_count": 21,
   "id": "b18f7803",
   "metadata": {},
   "outputs": [],
   "source": [
    "model.compile(optimizer ='adam' ,loss='binary_crossentropy',metrics=['accuracy'])"
   ]
  },
  {
   "cell_type": "code",
   "execution_count": 22,
   "id": "70db45bb",
   "metadata": {},
   "outputs": [
    {
     "name": "stdout",
     "output_type": "stream",
     "text": [
      "Epoch 1/5\n",
      "625/625 [==============================] - 51s 75ms/step - loss: 0.5029 - accuracy: 0.7451 - val_loss: 0.3910 - val_accuracy: 0.8340\n",
      "Epoch 2/5\n",
      "625/625 [==============================] - 36s 58ms/step - loss: 0.2946 - accuracy: 0.8842 - val_loss: 0.3731 - val_accuracy: 0.8386\n",
      "Epoch 3/5\n",
      "625/625 [==============================] - 37s 59ms/step - loss: 0.2115 - accuracy: 0.9226 - val_loss: 0.3996 - val_accuracy: 0.8426\n",
      "Epoch 4/5\n",
      "625/625 [==============================] - 37s 59ms/step - loss: 0.1528 - accuracy: 0.9478 - val_loss: 0.4425 - val_accuracy: 0.8340\n",
      "Epoch 5/5\n",
      "625/625 [==============================] - 36s 57ms/step - loss: 0.1124 - accuracy: 0.9642 - val_loss: 0.5213 - val_accuracy: 0.8336\n"
     ]
    }
   ],
   "source": [
    "history = model.fit(x_train ,y_train , epochs=5 , batch_size =32 ,validation_split=0.2)\n"
   ]
  },
  {
   "cell_type": "code",
   "execution_count": null,
   "id": "4f6e2e16",
   "metadata": {},
   "outputs": [],
   "source": []
  },
  {
   "cell_type": "code",
   "execution_count": null,
   "id": "4669d758",
   "metadata": {},
   "outputs": [],
   "source": []
  }
 ],
 "metadata": {
  "kernelspec": {
   "display_name": "Python 3 (ipykernel)",
   "language": "python",
   "name": "python3"
  },
  "language_info": {
   "codemirror_mode": {
    "name": "ipython",
    "version": 3
   },
   "file_extension": ".py",
   "mimetype": "text/x-python",
   "name": "python",
   "nbconvert_exporter": "python",
   "pygments_lexer": "ipython3",
   "version": "3.10.9"
  }
 },
 "nbformat": 4,
 "nbformat_minor": 5
}
