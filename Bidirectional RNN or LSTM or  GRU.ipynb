{
 "cells": [
  {
   "cell_type": "code",
   "execution_count": 1,
   "id": "a5b31e45",
   "metadata": {},
   "outputs": [],
   "source": [
    "# BINARY RNN \\ BINARY LSTM \\ BINARY GRU"
   ]
  },
  {
   "cell_type": "code",
   "execution_count": 4,
   "id": "4c889559",
   "metadata": {},
   "outputs": [],
   "source": [
    "import tensorflow as tf \n",
    "from tensorflow.keras.datasets import imdb\n",
    "from tensorflow.keras.preprocessing.sequence import pad_sequences \n",
    "from tensorflow.keras.models import Sequential \n",
    "from tensorflow.keras.layers import Embedding ,Bidirectional,SimpleRNN , LSTM , GRU , Dense"
   ]
  },
  {
   "cell_type": "code",
   "execution_count": 7,
   "id": "dfef598a",
   "metadata": {},
   "outputs": [],
   "source": [
    "# Load the IMDB  dataset\n",
    "num_word = 10000    # Number of words to keep \n",
    "(x_train, y_train), (x_test , y_test)  = imdb.load_data(num_words=num_word)"
   ]
  },
  {
   "cell_type": "code",
   "execution_count": 8,
   "id": "47416ebd",
   "metadata": {},
   "outputs": [],
   "source": [
    "# pad sequences\n",
    "maxlen = 100  # Maximum Sequence length \n",
    "x_train = pad_sequences(x_train, maxlen=maxlen,padding='post', truncating='post')\n",
    "x_test = pad_sequences(x_test , maxlen=maxlen , padding= 'post',truncating='post')\n"
   ]
  },
  {
   "cell_type": "code",
   "execution_count": 14,
   "id": "ce12dd77",
   "metadata": {},
   "outputs": [],
   "source": [
    "# Build the Bidirectional RNN model\n",
    "embedding_dim = 32   # Dimension of embedding layer \n",
    "\n",
    "model = Sequential([\n",
    "    Embedding(input_dim =num_word, output_dim=embedding_dim,input_length =maxlen),\n",
    "    Bidirectional(SimpleRNN(5)),             # 5 RNN units with bidirection\n",
    "    Dense(1,activation = 'sigmoid')    # Binary classfication (positice/negative)\n",
    "    \n",
    "])"
   ]
  },
  {
   "cell_type": "code",
   "execution_count": 12,
   "id": "fe8403d2",
   "metadata": {},
   "outputs": [],
   "source": [
    "# Compile  the model \n",
    "model.compile(optimizer ='adam' , loss = 'binary_crossentropy',metrics = ['accuracy'])\n"
   ]
  },
  {
   "cell_type": "code",
   "execution_count": 15,
   "id": "7b833e2b",
   "metadata": {},
   "outputs": [
    {
     "name": "stdout",
     "output_type": "stream",
     "text": [
      "Model: \"sequential_1\"\n",
      "_________________________________________________________________\n",
      " Layer (type)                Output Shape              Param #   \n",
      "=================================================================\n",
      " embedding_2 (Embedding)     (None, 100, 32)           320000    \n",
      "                                                                 \n",
      " bidirectional (Bidirection  (None, 10)                380       \n",
      " al)                                                             \n",
      "                                                                 \n",
      " dense_1 (Dense)             (None, 1)                 11        \n",
      "                                                                 \n",
      "=================================================================\n",
      "Total params: 320391 (1.22 MB)\n",
      "Trainable params: 320391 (1.22 MB)\n",
      "Non-trainable params: 0 (0.00 Byte)\n",
      "_________________________________________________________________\n"
     ]
    }
   ],
   "source": [
    "model.summary()"
   ]
  },
  {
   "cell_type": "code",
   "execution_count": null,
   "id": "35c59f56",
   "metadata": {},
   "outputs": [],
   "source": []
  },
  {
   "cell_type": "code",
   "execution_count": 21,
   "id": "3889dbee",
   "metadata": {},
   "outputs": [
    {
     "data": {
      "text/plain": [
       "array([[   1,   14,   22, ..., 2223, 5244,   16],\n",
       "       [   1,  194, 1153, ...,  775,    7, 8255],\n",
       "       [   1,   14,   47, ...,  326,   23, 2300],\n",
       "       ...,\n",
       "       [   1,   11,    6, ..., 4780,   11,    4],\n",
       "       [   1, 1446, 7079, ...,    4,  719, 3798],\n",
       "       [   1,   17,    6, ...,    5, 2642,  272]])"
      ]
     },
     "execution_count": 21,
     "metadata": {},
     "output_type": "execute_result"
    }
   ],
   "source": [
    "x_train"
   ]
  },
  {
   "cell_type": "code",
   "execution_count": null,
   "id": "5ce11525",
   "metadata": {},
   "outputs": [],
   "source": []
  },
  {
   "cell_type": "code",
   "execution_count": null,
   "id": "db2a1f2b",
   "metadata": {},
   "outputs": [],
   "source": []
  },
  {
   "cell_type": "code",
   "execution_count": 16,
   "id": "fe71e998",
   "metadata": {},
   "outputs": [],
   "source": [
    "# bidirectional with LSTM"
   ]
  },
  {
   "cell_type": "code",
   "execution_count": 22,
   "id": "bc4ca9e9",
   "metadata": {},
   "outputs": [],
   "source": [
    "# Build the Bidirectional LSTM  model\n",
    "embedding_dim = 32   # Dimension of embedding layer \n",
    "\n",
    "model = Sequential([\n",
    "    Embedding(input_dim =num_word, output_dim=embedding_dim,input_length =maxlen),\n",
    "    Bidirectional(LSTM(5)),             # 5 LSTM units with bidirection\n",
    "    Dense(1,activation = 'sigmoid')    # Binary classfication (positice/negative)\n",
    "    \n",
    "])"
   ]
  },
  {
   "cell_type": "code",
   "execution_count": null,
   "id": "ebd87bb6",
   "metadata": {},
   "outputs": [],
   "source": []
  },
  {
   "cell_type": "code",
   "execution_count": null,
   "id": "d1941bf8",
   "metadata": {},
   "outputs": [],
   "source": []
  },
  {
   "cell_type": "code",
   "execution_count": null,
   "id": "27605e3f",
   "metadata": {},
   "outputs": [],
   "source": []
  },
  {
   "cell_type": "code",
   "execution_count": null,
   "id": "f3999cd3",
   "metadata": {},
   "outputs": [],
   "source": []
  },
  {
   "cell_type": "code",
   "execution_count": 24,
   "id": "2b6ffa94",
   "metadata": {},
   "outputs": [],
   "source": [
    "# Build the Bidirectional GRU model\n",
    "embedding_dim = 32   # Dimension of embedding layer \n",
    "\n",
    "model = Sequential([\n",
    "    Embedding(input_dim =num_word, output_dim=embedding_dim,input_length =maxlen),\n",
    "    Bidirectional(LSTM(5)),             # 5 GRU units with bidirection\n",
    "    Dense(1,activation = 'sigmoid')    # Binary classfication (positice/negative)\n",
    "    \n",
    "])"
   ]
  },
  {
   "cell_type": "code",
   "execution_count": null,
   "id": "a6f05ab6",
   "metadata": {},
   "outputs": [],
   "source": []
  },
  {
   "cell_type": "code",
   "execution_count": null,
   "id": "7bc8f3cb",
   "metadata": {},
   "outputs": [],
   "source": []
  }
 ],
 "metadata": {
  "kernelspec": {
   "display_name": "Python 3 (ipykernel)",
   "language": "python",
   "name": "python3"
  },
  "language_info": {
   "codemirror_mode": {
    "name": "ipython",
    "version": 3
   },
   "file_extension": ".py",
   "mimetype": "text/x-python",
   "name": "python",
   "nbconvert_exporter": "python",
   "pygments_lexer": "ipython3",
   "version": "3.10.9"
  }
 },
 "nbformat": 4,
 "nbformat_minor": 5
}
